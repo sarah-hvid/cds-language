{
 "cells": [
  {
   "cell_type": "code",
   "execution_count": null,
   "id": "ef12819a-4e78-467c-81d3-5a80277a2b14",
   "metadata": {},
   "outputs": [],
   "source": [
    "# script for testing the push to github"
   ]
  }
 ],
 "metadata": {
  "kernelspec": {
   "display_name": "Python 3 ",
   "language": "python",
   "name": "python3"
  },
  "language_info": {
   "codemirror_mode": {
    "name": "ipython",
    "version": 3
   },
   "file_extension": ".py",
   "mimetype": "text/x-python",
   "name": "python",
   "nbconvert_exporter": "python",
   "pygments_lexer": "ipython3",
   "version": "3.9.6"
  }
 },
 "nbformat": 4,
 "nbformat_minor": 5
}
