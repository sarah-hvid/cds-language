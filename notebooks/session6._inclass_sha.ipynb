{
 "cells": [
  {
   "cell_type": "markdown",
   "metadata": {},
   "source": [
    "## We start by importing all of the libaries and functions we'll need "
   ]
  },
  {
   "cell_type": "code",
   "execution_count": 55,
   "metadata": {
    "execution": {
     "iopub.execute_input": "2022-03-14T14:38:11.191059Z",
     "iopub.status.busy": "2022-03-14T14:38:11.190519Z",
     "iopub.status.idle": "2022-03-14T14:38:11.569619Z",
     "shell.execute_reply": "2022-03-14T14:38:11.568968Z",
     "shell.execute_reply.started": "2022-03-14T14:38:11.191003Z"
    },
    "tags": []
   },
   "outputs": [],
   "source": [
    "# System tools\n",
    "import os\n",
    "\n",
    "# Data analysis\n",
    "import pandas as pd\n",
    "import itertools\n",
    "from collections import Counter\n",
    "from itertools import combinations \n",
    "from tqdm import tqdm\n",
    "\n",
    "# NLP\n",
    "import spacy\n",
    "nlp = spacy.load(\"en_core_web_sm\")\n",
    "\n",
    "# Network analysis tools\n",
    "import networkx as nx\n",
    "import matplotlib.pyplot as plt\n",
    "plt.rcParams[\"figure.figsize\"] = (20,20)"
   ]
  },
  {
   "cell_type": "markdown",
   "metadata": {},
   "source": [
    "## Define input file and read data to dataframe"
   ]
  },
  {
   "cell_type": "code",
   "execution_count": 3,
   "metadata": {
    "execution": {
     "iopub.execute_input": "2022-03-14T13:22:13.045221Z",
     "iopub.status.busy": "2022-03-14T13:22:13.044608Z",
     "iopub.status.idle": "2022-03-14T13:22:13.051691Z",
     "shell.execute_reply": "2022-03-14T13:22:13.050606Z",
     "shell.execute_reply.started": "2022-03-14T13:22:13.045179Z"
    },
    "tags": []
   },
   "outputs": [],
   "source": [
    "filepath = os.path.join('..', '..', '..', 'CDS-LANG', 'tabular_examples', 'fake_or_real_news.csv')"
   ]
  },
  {
   "cell_type": "code",
   "execution_count": 4,
   "metadata": {
    "execution": {
     "iopub.execute_input": "2022-03-14T13:22:23.991153Z",
     "iopub.status.busy": "2022-03-14T13:22:23.990597Z",
     "iopub.status.idle": "2022-03-14T13:22:24.273331Z",
     "shell.execute_reply": "2022-03-14T13:22:24.271933Z",
     "shell.execute_reply.started": "2022-03-14T13:22:23.991101Z"
    },
    "tags": []
   },
   "outputs": [],
   "source": [
    "data = pd.read_csv(filepath)"
   ]
  },
  {
   "cell_type": "markdown",
   "metadata": {},
   "source": [
    "## Extract all named individuals\n",
    "\n",
    "We use ```spaCy``` to extract only mentions of PERSONS or LOC in the texts.\n",
    "\n",
    "NB: See final comment below under ```Problems```!"
   ]
  },
  {
   "cell_type": "code",
   "execution_count": 7,
   "metadata": {
    "execution": {
     "iopub.execute_input": "2022-03-14T13:27:08.254764Z",
     "iopub.status.busy": "2022-03-14T13:27:08.254249Z",
     "iopub.status.idle": "2022-03-14T13:27:08.265387Z",
     "shell.execute_reply": "2022-03-14T13:27:08.264467Z",
     "shell.execute_reply.started": "2022-03-14T13:27:08.254714Z"
    },
    "tags": []
   },
   "outputs": [],
   "source": [
    "real_text = data[data.label == 'REAL']['text'] # filter one select the real news, filter two selects to only keep the text column"
   ]
  },
  {
   "cell_type": "code",
   "execution_count": 13,
   "metadata": {
    "execution": {
     "iopub.execute_input": "2022-03-14T13:36:06.330060Z",
     "iopub.status.busy": "2022-03-14T13:36:06.329536Z",
     "iopub.status.idle": "2022-03-14T13:36:06.341068Z",
     "shell.execute_reply": "2022-03-14T13:36:06.340159Z",
     "shell.execute_reply.started": "2022-03-14T13:36:06.330012Z"
    },
    "tags": []
   },
   "outputs": [
    {
     "data": {
      "text/plain": [
       "2       U.S. Secretary of State John F. Kerry said Mon...\n",
       "4       It's primary day in New York and front-runners...\n",
       "7       A Czech stockbroker who saved more than 650 Je...\n",
       "8       Hillary Clinton and Donald Trump made some ina...\n",
       "9       Iranian negotiators reportedly have made a las...\n",
       "                              ...                        \n",
       "6324    Most conservatives who oppose marriage equalit...\n",
       "6327    The freshman senator from Georgia quoted scrip...\n",
       "6330    The State Department told the Republican Natio...\n",
       "6333    ADDIS ABABA, Ethiopia —President Obama convene...\n",
       "6334    Jeb Bush Is Suddenly Attacking Trump. Here's W...\n",
       "Name: text, Length: 3171, dtype: object"
      ]
     },
     "execution_count": 13,
     "metadata": {},
     "output_type": "execute_result"
    }
   ],
   "source": [
    "real_text"
   ]
  },
  {
   "cell_type": "code",
   "execution_count": 29,
   "metadata": {
    "execution": {
     "iopub.execute_input": "2022-03-14T13:49:58.558824Z",
     "iopub.status.busy": "2022-03-14T13:49:58.558293Z",
     "iopub.status.idle": "2022-03-14T13:49:58.564520Z",
     "shell.execute_reply": "2022-03-14T13:49:58.563580Z",
     "shell.execute_reply.started": "2022-03-14T13:49:58.558769Z"
    },
    "tags": []
   },
   "outputs": [],
   "source": [
    "docs = list(nlp.pipe(real_text, batch_size = 500))"
   ]
  },
  {
   "cell_type": "code",
   "execution_count": 49,
   "metadata": {
    "execution": {
     "iopub.execute_input": "2022-03-14T14:19:36.121237Z",
     "iopub.status.busy": "2022-03-14T14:19:36.121080Z",
     "iopub.status.idle": "2022-03-14T14:19:36.544936Z",
     "shell.execute_reply": "2022-03-14T14:19:36.544269Z",
     "shell.execute_reply.started": "2022-03-14T14:19:36.121221Z"
    },
    "tags": []
   },
   "outputs": [],
   "source": [
    "person_list = []\n",
    "\n",
    "for doc in docs:\n",
    "    in_list = []\n",
    "    for token in doc.ents:\n",
    "        if token.label_ == 'PERSON':\n",
    "            in_list.append(token.text)\n",
    "    \n",
    "    person_list.append(in_list)"
   ]
  },
  {
   "cell_type": "code",
   "execution_count": 37,
   "metadata": {
    "execution": {
     "iopub.execute_input": "2022-03-14T13:53:38.779725Z",
     "iopub.status.busy": "2022-03-14T13:53:38.779574Z",
     "iopub.status.idle": "2022-03-14T13:53:38.784096Z",
     "shell.execute_reply": "2022-03-14T13:53:38.783661Z",
     "shell.execute_reply.started": "2022-03-14T13:53:38.779709Z"
    },
    "tags": []
   },
   "outputs": [
    {
     "data": {
      "text/plain": [
       "3171"
      ]
     },
     "execution_count": 37,
     "metadata": {},
     "output_type": "execute_result"
    }
   ],
   "source": [
    "len(loc_list)"
   ]
  },
  {
   "cell_type": "code",
   "execution_count": 32,
   "metadata": {
    "execution": {
     "iopub.execute_input": "2022-03-14T13:52:21.704067Z",
     "iopub.status.busy": "2022-03-14T13:52:21.703922Z",
     "iopub.status.idle": "2022-03-14T13:52:21.973951Z",
     "shell.execute_reply": "2022-03-14T13:52:21.973147Z",
     "shell.execute_reply.started": "2022-03-14T13:52:21.704052Z"
    },
    "tags": []
   },
   "outputs": [],
   "source": [
    "loc_list = []\n",
    "\n",
    "for doc in docs:\n",
    "    in_list = []\n",
    "    for token in doc.ents:\n",
    "        if token.label_ == 'LOC':\n",
    "            in_list.append(token.text)\n",
    "    \n",
    "    loc_list.append(in_list)"
   ]
  },
  {
   "cell_type": "markdown",
   "metadata": {},
   "source": [
    "## Create edgelist using ```itertools.combinations()```"
   ]
  },
  {
   "cell_type": "code",
   "execution_count": 56,
   "metadata": {
    "execution": {
     "iopub.execute_input": "2022-03-14T14:39:14.668838Z",
     "iopub.status.busy": "2022-03-14T14:39:14.668598Z",
     "iopub.status.idle": "2022-03-14T14:39:14.944184Z",
     "shell.execute_reply": "2022-03-14T14:39:14.943531Z",
     "shell.execute_reply.started": "2022-03-14T14:39:14.668820Z"
    },
    "tags": []
   },
   "outputs": [],
   "source": [
    "edgelist = []\n",
    "\n",
    "for sublist in person_list:\n",
    "    edges = list(combinations(sublist, 2))\n",
    "    for edge in edges:\n",
    "        if edge[0] == edge[1]:\n",
    "            pass\n",
    "        else:\n",
    "            edgelist.append(edge)"
   ]
  },
  {
   "cell_type": "markdown",
   "metadata": {},
   "source": [
    "## Count occurrences using ```Counter()```"
   ]
  },
  {
   "cell_type": "markdown",
   "metadata": {},
   "source": [
    "Create DF from Counter object, showing each node pair and the edge weight."
   ]
  },
  {
   "cell_type": "code",
   "execution_count": null,
   "metadata": {
    "tags": []
   },
   "outputs": [],
   "source": []
  },
  {
   "cell_type": "code",
   "execution_count": null,
   "metadata": {},
   "outputs": [],
   "source": []
  },
  {
   "cell_type": "markdown",
   "metadata": {},
   "source": [
    "__Filter based on edgeweight__"
   ]
  },
  {
   "cell_type": "code",
   "execution_count": null,
   "metadata": {},
   "outputs": [],
   "source": []
  },
  {
   "cell_type": "markdown",
   "metadata": {},
   "source": [
    "## Create network"
   ]
  },
  {
   "cell_type": "markdown",
   "metadata": {},
   "source": [
    "Create a graph object called ```G```"
   ]
  },
  {
   "cell_type": "code",
   "execution_count": null,
   "metadata": {},
   "outputs": [],
   "source": []
  },
  {
   "cell_type": "markdown",
   "metadata": {},
   "source": [
    "We're just going to use the simplest plotting algorithm. But feel free to experiment with different approaches and see how they perform differently:\n",
    "\n",
    "https://networkx.org/documentation/stable/reference/drawing.html"
   ]
  },
  {
   "cell_type": "code",
   "execution_count": null,
   "metadata": {},
   "outputs": [],
   "source": []
  },
  {
   "cell_type": "markdown",
   "metadata": {},
   "source": [
    "Make sure the folder ```../viz``` exists already for saving the image"
   ]
  },
  {
   "cell_type": "code",
   "execution_count": null,
   "metadata": {},
   "outputs": [],
   "source": []
  },
  {
   "cell_type": "code",
   "execution_count": null,
   "metadata": {},
   "outputs": [],
   "source": []
  },
  {
   "cell_type": "markdown",
   "metadata": {},
   "source": [
    "## Centrality measures"
   ]
  },
  {
   "cell_type": "code",
   "execution_count": null,
   "metadata": {},
   "outputs": [],
   "source": []
  },
  {
   "cell_type": "code",
   "execution_count": null,
   "metadata": {},
   "outputs": [],
   "source": []
  },
  {
   "cell_type": "code",
   "execution_count": null,
   "metadata": {},
   "outputs": [],
   "source": []
  },
  {
   "cell_type": "code",
   "execution_count": null,
   "metadata": {},
   "outputs": [],
   "source": []
  },
  {
   "cell_type": "markdown",
   "metadata": {},
   "source": [
    "## Problems"
   ]
  },
  {
   "cell_type": "markdown",
   "metadata": {},
   "source": [
    "- How much of an issue is coreference in the data?\n",
    "\n",
    "- We've said that we're basing this on document co-occurence. But then why are there some node pairs with a greater edge weight than the number of documents?\n",
    "\n",
    "- We could resolve this by changing the final line of our ```spaCy``` pipeline to be something like ```post_entities.append(set(sorted(tmp_entities)))```. \n",
    "    - What does this code do?"
   ]
  },
  {
   "cell_type": "code",
   "execution_count": null,
   "metadata": {},
   "outputs": [],
   "source": []
  }
 ],
 "metadata": {
  "kernelspec": {
   "display_name": "Python 3 ",
   "language": "python",
   "name": "python3"
  },
  "language_info": {
   "codemirror_mode": {
    "name": "ipython",
    "version": 3
   },
   "file_extension": ".py",
   "mimetype": "text/x-python",
   "name": "python",
   "nbconvert_exporter": "python",
   "pygments_lexer": "ipython3",
   "version": "3.9.6"
  }
 },
 "nbformat": 4,
 "nbformat_minor": 4
}
