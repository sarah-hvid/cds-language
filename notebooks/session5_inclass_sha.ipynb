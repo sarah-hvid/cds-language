{
 "cells": [
  {
   "cell_type": "markdown",
   "id": "928a8a43-54bc-4a09-8642-c8b55cd1f408",
   "metadata": {
    "tags": []
   },
   "source": [
    "# Import packages\n",
    "\n",
    "1) Install the following:\n",
    "- tqdm\n",
    "- spaCy\n",
    "- python -m spacy download en_core_web_sm\n",
    "\n",
    "These should all be installed with the bash script that you attached when starting the app in UCloud."
   ]
  },
  {
   "cell_type": "code",
   "execution_count": 3,
   "id": "21a26351-dc0e-4808-9494-1885ff259bad",
   "metadata": {
    "execution": {
     "iopub.execute_input": "2022-03-07T13:23:00.766530Z",
     "iopub.status.busy": "2022-03-07T13:23:00.765894Z",
     "iopub.status.idle": "2022-03-07T13:23:02.183597Z",
     "shell.execute_reply": "2022-03-07T13:23:02.182927Z",
     "shell.execute_reply.started": "2022-03-07T13:23:00.766479Z"
    },
    "tags": []
   },
   "outputs": [],
   "source": [
    "# Data analysis\n",
    "import os\n",
    "import pandas as pd\n",
    "from collections import Counter\n",
    "from tqdm import tqdm\n",
    "\n",
    "# NLP\n",
    "import spacy\n",
    "nlp = spacy.load(\"en_core_web_sm\")\n",
    "\n",
    "# sentiment analysis VADER\n",
    "from vaderSentiment.vaderSentiment import SentimentIntensityAnalyzer\n",
    "analyzer = SentimentIntensityAnalyzer()\n",
    "# sentiment with spacyTextBlob\n",
    "from spacytextblob.spacytextblob import SpacyTextBlob\n",
    "nlp.add_pipe('spacytextblob')\n",
    "\n",
    "# visualisations\n",
    "import matplotlib.pyplot as plt"
   ]
  },
  {
   "cell_type": "markdown",
   "id": "1f580619-5b77-47d2-a7b1-6c8c6a75d287",
   "metadata": {},
   "source": [
    "# Load the data\n",
    "\n",
    "We're going to use the \"fake news\" dataset in the shared drive today."
   ]
  },
  {
   "cell_type": "code",
   "execution_count": 12,
   "id": "9d2ca5db-0b43-4002-a630-913e98b3ec4a",
   "metadata": {
    "execution": {
     "iopub.execute_input": "2022-03-07T13:29:45.832831Z",
     "iopub.status.busy": "2022-03-07T13:29:45.832286Z",
     "iopub.status.idle": "2022-03-07T13:29:45.839586Z",
     "shell.execute_reply": "2022-03-07T13:29:45.838469Z",
     "shell.execute_reply.started": "2022-03-07T13:29:45.832781Z"
    },
    "tags": []
   },
   "outputs": [],
   "source": [
    "# get the filepath\n",
    "filepath = os.path.join('..','..','..','CDS-LANG', 'tabular_examples', 'fake_or_real_news.csv')"
   ]
  },
  {
   "cell_type": "code",
   "execution_count": 17,
   "id": "a8b76ca2-ec19-47e8-8356-836103149b74",
   "metadata": {
    "execution": {
     "iopub.execute_input": "2022-03-07T13:31:05.253234Z",
     "iopub.status.busy": "2022-03-07T13:31:05.252682Z",
     "iopub.status.idle": "2022-03-07T13:31:05.515320Z",
     "shell.execute_reply": "2022-03-07T13:31:05.513650Z",
     "shell.execute_reply.started": "2022-03-07T13:31:05.253182Z"
    },
    "tags": []
   },
   "outputs": [],
   "source": [
    "# load the data\n",
    "data = pd.read_csv(filepath)"
   ]
  },
  {
   "cell_type": "code",
   "execution_count": 18,
   "id": "01ca8a1f-097f-4733-b476-0d74094777ee",
   "metadata": {
    "execution": {
     "iopub.execute_input": "2022-03-07T13:31:06.591149Z",
     "iopub.status.busy": "2022-03-07T13:31:06.590631Z",
     "iopub.status.idle": "2022-03-07T13:31:06.609671Z",
     "shell.execute_reply": "2022-03-07T13:31:06.608741Z",
     "shell.execute_reply.started": "2022-03-07T13:31:06.591100Z"
    },
    "tags": []
   },
   "outputs": [
    {
     "data": {
      "text/html": [
       "<div>\n",
       "<style scoped>\n",
       "    .dataframe tbody tr th:only-of-type {\n",
       "        vertical-align: middle;\n",
       "    }\n",
       "\n",
       "    .dataframe tbody tr th {\n",
       "        vertical-align: top;\n",
       "    }\n",
       "\n",
       "    .dataframe thead th {\n",
       "        text-align: right;\n",
       "    }\n",
       "</style>\n",
       "<table border=\"1\" class=\"dataframe\">\n",
       "  <thead>\n",
       "    <tr style=\"text-align: right;\">\n",
       "      <th></th>\n",
       "      <th>Unnamed: 0</th>\n",
       "      <th>title</th>\n",
       "      <th>text</th>\n",
       "      <th>label</th>\n",
       "    </tr>\n",
       "  </thead>\n",
       "  <tbody>\n",
       "    <tr>\n",
       "      <th>0</th>\n",
       "      <td>8476</td>\n",
       "      <td>You Can Smell Hillary’s Fear</td>\n",
       "      <td>Daniel Greenfield, a Shillman Journalism Fello...</td>\n",
       "      <td>FAKE</td>\n",
       "    </tr>\n",
       "    <tr>\n",
       "      <th>1</th>\n",
       "      <td>10294</td>\n",
       "      <td>Watch The Exact Moment Paul Ryan Committed Pol...</td>\n",
       "      <td>Google Pinterest Digg Linkedin Reddit Stumbleu...</td>\n",
       "      <td>FAKE</td>\n",
       "    </tr>\n",
       "    <tr>\n",
       "      <th>2</th>\n",
       "      <td>3608</td>\n",
       "      <td>Kerry to go to Paris in gesture of sympathy</td>\n",
       "      <td>U.S. Secretary of State John F. Kerry said Mon...</td>\n",
       "      <td>REAL</td>\n",
       "    </tr>\n",
       "    <tr>\n",
       "      <th>3</th>\n",
       "      <td>10142</td>\n",
       "      <td>Bernie supporters on Twitter erupt in anger ag...</td>\n",
       "      <td>— Kaydee King (@KaydeeKing) November 9, 2016 T...</td>\n",
       "      <td>FAKE</td>\n",
       "    </tr>\n",
       "    <tr>\n",
       "      <th>4</th>\n",
       "      <td>875</td>\n",
       "      <td>The Battle of New York: Why This Primary Matters</td>\n",
       "      <td>It's primary day in New York and front-runners...</td>\n",
       "      <td>REAL</td>\n",
       "    </tr>\n",
       "    <tr>\n",
       "      <th>...</th>\n",
       "      <td>...</td>\n",
       "      <td>...</td>\n",
       "      <td>...</td>\n",
       "      <td>...</td>\n",
       "    </tr>\n",
       "    <tr>\n",
       "      <th>6330</th>\n",
       "      <td>4490</td>\n",
       "      <td>State Department says it can't find emails fro...</td>\n",
       "      <td>The State Department told the Republican Natio...</td>\n",
       "      <td>REAL</td>\n",
       "    </tr>\n",
       "    <tr>\n",
       "      <th>6331</th>\n",
       "      <td>8062</td>\n",
       "      <td>The ‘P’ in PBS Should Stand for ‘Plutocratic’ ...</td>\n",
       "      <td>The ‘P’ in PBS Should Stand for ‘Plutocratic’ ...</td>\n",
       "      <td>FAKE</td>\n",
       "    </tr>\n",
       "    <tr>\n",
       "      <th>6332</th>\n",
       "      <td>8622</td>\n",
       "      <td>Anti-Trump Protesters Are Tools of the Oligarc...</td>\n",
       "      <td>Anti-Trump Protesters Are Tools of the Oligar...</td>\n",
       "      <td>FAKE</td>\n",
       "    </tr>\n",
       "    <tr>\n",
       "      <th>6333</th>\n",
       "      <td>4021</td>\n",
       "      <td>In Ethiopia, Obama seeks progress on peace, se...</td>\n",
       "      <td>ADDIS ABABA, Ethiopia —President Obama convene...</td>\n",
       "      <td>REAL</td>\n",
       "    </tr>\n",
       "    <tr>\n",
       "      <th>6334</th>\n",
       "      <td>4330</td>\n",
       "      <td>Jeb Bush Is Suddenly Attacking Trump. Here's W...</td>\n",
       "      <td>Jeb Bush Is Suddenly Attacking Trump. Here's W...</td>\n",
       "      <td>REAL</td>\n",
       "    </tr>\n",
       "  </tbody>\n",
       "</table>\n",
       "<p>6335 rows × 4 columns</p>\n",
       "</div>"
      ],
      "text/plain": [
       "      Unnamed: 0                                              title  \\\n",
       "0           8476                       You Can Smell Hillary’s Fear   \n",
       "1          10294  Watch The Exact Moment Paul Ryan Committed Pol...   \n",
       "2           3608        Kerry to go to Paris in gesture of sympathy   \n",
       "3          10142  Bernie supporters on Twitter erupt in anger ag...   \n",
       "4            875   The Battle of New York: Why This Primary Matters   \n",
       "...          ...                                                ...   \n",
       "6330        4490  State Department says it can't find emails fro...   \n",
       "6331        8062  The ‘P’ in PBS Should Stand for ‘Plutocratic’ ...   \n",
       "6332        8622  Anti-Trump Protesters Are Tools of the Oligarc...   \n",
       "6333        4021  In Ethiopia, Obama seeks progress on peace, se...   \n",
       "6334        4330  Jeb Bush Is Suddenly Attacking Trump. Here's W...   \n",
       "\n",
       "                                                   text label  \n",
       "0     Daniel Greenfield, a Shillman Journalism Fello...  FAKE  \n",
       "1     Google Pinterest Digg Linkedin Reddit Stumbleu...  FAKE  \n",
       "2     U.S. Secretary of State John F. Kerry said Mon...  REAL  \n",
       "3     — Kaydee King (@KaydeeKing) November 9, 2016 T...  FAKE  \n",
       "4     It's primary day in New York and front-runners...  REAL  \n",
       "...                                                 ...   ...  \n",
       "6330  The State Department told the Republican Natio...  REAL  \n",
       "6331  The ‘P’ in PBS Should Stand for ‘Plutocratic’ ...  FAKE  \n",
       "6332   Anti-Trump Protesters Are Tools of the Oligar...  FAKE  \n",
       "6333  ADDIS ABABA, Ethiopia —President Obama convene...  REAL  \n",
       "6334  Jeb Bush Is Suddenly Attacking Trump. Here's W...  REAL  \n",
       "\n",
       "[6335 rows x 4 columns]"
      ]
     },
     "execution_count": 18,
     "metadata": {},
     "output_type": "execute_result"
    }
   ],
   "source": [
    "data"
   ]
  },
  {
   "cell_type": "markdown",
   "id": "6863689c-d0b1-4f1a-86d3-86384d0133d8",
   "metadata": {},
   "source": [
    "# Sentiment Analysis with VADER\n",
    "\n",
    "Let's look at text at index 3 in our data - we'll just work with the headlines, rather than the full articles."
   ]
  },
  {
   "cell_type": "code",
   "execution_count": 22,
   "id": "6356084b-55e4-46d0-ba73-9d70e4bdff54",
   "metadata": {
    "execution": {
     "iopub.execute_input": "2022-03-07T13:32:41.330538Z",
     "iopub.status.busy": "2022-03-07T13:32:41.330008Z",
     "iopub.status.idle": "2022-03-07T13:32:41.338644Z",
     "shell.execute_reply": "2022-03-07T13:32:41.337554Z",
     "shell.execute_reply.started": "2022-03-07T13:32:41.330489Z"
    },
    "tags": []
   },
   "outputs": [
    {
     "name": "stdout",
     "output_type": "stream",
     "text": [
      "Bernie supporters on Twitter erupt in anger against the DNC: 'We tried to warn you!'\n"
     ]
    }
   ],
   "source": [
    "print(data['title'][3])"
   ]
  },
  {
   "cell_type": "code",
   "execution_count": 24,
   "id": "7141ad5d-6cbd-4ced-aa45-1a2dd11f5d98",
   "metadata": {
    "execution": {
     "iopub.execute_input": "2022-03-07T13:34:48.732296Z",
     "iopub.status.busy": "2022-03-07T13:34:48.731772Z",
     "iopub.status.idle": "2022-03-07T13:34:48.742298Z",
     "shell.execute_reply": "2022-03-07T13:34:48.741147Z",
     "shell.execute_reply.started": "2022-03-07T13:34:48.732244Z"
    },
    "tags": []
   },
   "outputs": [
    {
     "data": {
      "text/plain": [
       "{'neg': 0.266, 'neu': 0.591, 'pos': 0.143, 'compound': -0.3595}"
      ]
     },
     "execution_count": 24,
     "metadata": {},
     "output_type": "execute_result"
    }
   ],
   "source": [
    "text_example = data['title'][3]\n",
    "analyzer.polarity_scores(text_example)"
   ]
  },
  {
   "cell_type": "code",
   "execution_count": 23,
   "id": "61d1a6fe-1d15-4e74-b98b-09aff7fa58da",
   "metadata": {
    "execution": {
     "iopub.execute_input": "2022-03-07T13:33:56.906181Z",
     "iopub.status.busy": "2022-03-07T13:33:56.905482Z",
     "iopub.status.idle": "2022-03-07T13:33:56.917437Z",
     "shell.execute_reply": "2022-03-07T13:33:56.916281Z",
     "shell.execute_reply.started": "2022-03-07T13:33:56.906130Z"
    },
    "tags": []
   },
   "outputs": [
    {
     "data": {
      "text/plain": [
       "{'neg': 0.266, 'neu': 0.591, 'pos': 0.143, 'compound': -0.3595}"
      ]
     },
     "execution_count": 23,
     "metadata": {},
     "output_type": "execute_result"
    }
   ],
   "source": [
    "# get sentiment scores with VADER\n",
    "analyzer.polarity_scores(data['title'][3])"
   ]
  },
  {
   "cell_type": "code",
   "execution_count": 27,
   "id": "25072dc8-d114-4a88-a5f0-99993f00b2f0",
   "metadata": {
    "execution": {
     "iopub.execute_input": "2022-03-07T13:37:59.564452Z",
     "iopub.status.busy": "2022-03-07T13:37:59.563901Z",
     "iopub.status.idle": "2022-03-07T13:37:59.872124Z",
     "shell.execute_reply": "2022-03-07T13:37:59.871066Z",
     "shell.execute_reply.started": "2022-03-07T13:37:59.564400Z"
    },
    "tags": []
   },
   "outputs": [],
   "source": [
    "# get for all headlines\n",
    "vader_score = []\n",
    "\n",
    "for headline in data['title']:\n",
    "    dict_of_scores = analyzer.polarity_scores(headline)\n",
    "    vader_score.append(dict_of_scores)\n",
    "    \n",
    "df['vader_sentiment'] = vader_score"
   ]
  },
  {
   "cell_type": "code",
   "execution_count": 29,
   "id": "2ee3a1ab-bd9c-434f-a57f-26d4d418ae22",
   "metadata": {
    "execution": {
     "iopub.execute_input": "2022-03-07T13:44:50.538021Z",
     "iopub.status.busy": "2022-03-07T13:44:50.537465Z",
     "iopub.status.idle": "2022-03-07T13:44:50.551743Z",
     "shell.execute_reply": "2022-03-07T13:44:50.551026Z",
     "shell.execute_reply.started": "2022-03-07T13:44:50.537966Z"
    },
    "tags": []
   },
   "outputs": [],
   "source": [
    "vader_df = pd.DataFrame(vader_score, columns = ['neg','neu','pos','compound'])"
   ]
  },
  {
   "cell_type": "code",
   "execution_count": 30,
   "id": "05245f48-7dc7-4181-b59e-f7b09555a564",
   "metadata": {
    "execution": {
     "iopub.execute_input": "2022-03-07T13:45:03.129988Z",
     "iopub.status.busy": "2022-03-07T13:45:03.129423Z",
     "iopub.status.idle": "2022-03-07T13:45:03.151660Z",
     "shell.execute_reply": "2022-03-07T13:45:03.150780Z",
     "shell.execute_reply.started": "2022-03-07T13:45:03.129920Z"
    },
    "tags": []
   },
   "outputs": [
    {
     "data": {
      "text/html": [
       "<div>\n",
       "<style scoped>\n",
       "    .dataframe tbody tr th:only-of-type {\n",
       "        vertical-align: middle;\n",
       "    }\n",
       "\n",
       "    .dataframe tbody tr th {\n",
       "        vertical-align: top;\n",
       "    }\n",
       "\n",
       "    .dataframe thead th {\n",
       "        text-align: right;\n",
       "    }\n",
       "</style>\n",
       "<table border=\"1\" class=\"dataframe\">\n",
       "  <thead>\n",
       "    <tr style=\"text-align: right;\">\n",
       "      <th></th>\n",
       "      <th>neg</th>\n",
       "      <th>neu</th>\n",
       "      <th>pos</th>\n",
       "      <th>compound</th>\n",
       "    </tr>\n",
       "  </thead>\n",
       "  <tbody>\n",
       "    <tr>\n",
       "      <th>0</th>\n",
       "      <td>0.444</td>\n",
       "      <td>0.556</td>\n",
       "      <td>0.000</td>\n",
       "      <td>-0.4939</td>\n",
       "    </tr>\n",
       "    <tr>\n",
       "      <th>1</th>\n",
       "      <td>0.242</td>\n",
       "      <td>0.645</td>\n",
       "      <td>0.113</td>\n",
       "      <td>-0.5267</td>\n",
       "    </tr>\n",
       "    <tr>\n",
       "      <th>2</th>\n",
       "      <td>0.000</td>\n",
       "      <td>0.762</td>\n",
       "      <td>0.238</td>\n",
       "      <td>0.3612</td>\n",
       "    </tr>\n",
       "    <tr>\n",
       "      <th>3</th>\n",
       "      <td>0.266</td>\n",
       "      <td>0.591</td>\n",
       "      <td>0.143</td>\n",
       "      <td>-0.3595</td>\n",
       "    </tr>\n",
       "    <tr>\n",
       "      <th>4</th>\n",
       "      <td>0.243</td>\n",
       "      <td>0.654</td>\n",
       "      <td>0.103</td>\n",
       "      <td>-0.3612</td>\n",
       "    </tr>\n",
       "    <tr>\n",
       "      <th>...</th>\n",
       "      <td>...</td>\n",
       "      <td>...</td>\n",
       "      <td>...</td>\n",
       "      <td>...</td>\n",
       "    </tr>\n",
       "    <tr>\n",
       "      <th>6330</th>\n",
       "      <td>0.000</td>\n",
       "      <td>1.000</td>\n",
       "      <td>0.000</td>\n",
       "      <td>0.0000</td>\n",
       "    </tr>\n",
       "    <tr>\n",
       "      <th>6331</th>\n",
       "      <td>0.000</td>\n",
       "      <td>1.000</td>\n",
       "      <td>0.000</td>\n",
       "      <td>0.0000</td>\n",
       "    </tr>\n",
       "    <tr>\n",
       "      <th>6332</th>\n",
       "      <td>0.192</td>\n",
       "      <td>0.808</td>\n",
       "      <td>0.000</td>\n",
       "      <td>-0.2263</td>\n",
       "    </tr>\n",
       "    <tr>\n",
       "      <th>6333</th>\n",
       "      <td>0.000</td>\n",
       "      <td>0.479</td>\n",
       "      <td>0.521</td>\n",
       "      <td>0.8271</td>\n",
       "    </tr>\n",
       "    <tr>\n",
       "      <th>6334</th>\n",
       "      <td>0.248</td>\n",
       "      <td>0.661</td>\n",
       "      <td>0.091</td>\n",
       "      <td>-0.4404</td>\n",
       "    </tr>\n",
       "  </tbody>\n",
       "</table>\n",
       "<p>6335 rows × 4 columns</p>\n",
       "</div>"
      ],
      "text/plain": [
       "        neg    neu    pos  compound\n",
       "0     0.444  0.556  0.000   -0.4939\n",
       "1     0.242  0.645  0.113   -0.5267\n",
       "2     0.000  0.762  0.238    0.3612\n",
       "3     0.266  0.591  0.143   -0.3595\n",
       "4     0.243  0.654  0.103   -0.3612\n",
       "...     ...    ...    ...       ...\n",
       "6330  0.000  1.000  0.000    0.0000\n",
       "6331  0.000  1.000  0.000    0.0000\n",
       "6332  0.192  0.808  0.000   -0.2263\n",
       "6333  0.000  0.479  0.521    0.8271\n",
       "6334  0.248  0.661  0.091   -0.4404\n",
       "\n",
       "[6335 rows x 4 columns]"
      ]
     },
     "execution_count": 30,
     "metadata": {},
     "output_type": "execute_result"
    }
   ],
   "source": [
    "# create a dataframe\n",
    "vader_df"
   ]
  },
  {
   "cell_type": "code",
   "execution_count": 32,
   "id": "07c38ab1-bdc2-4a38-8e02-568fdae6d0fc",
   "metadata": {
    "execution": {
     "iopub.execute_input": "2022-03-07T13:46:42.141216Z",
     "iopub.status.busy": "2022-03-07T13:46:42.140545Z",
     "iopub.status.idle": "2022-03-07T13:46:42.156040Z",
     "shell.execute_reply": "2022-03-07T13:46:42.155275Z",
     "shell.execute_reply.started": "2022-03-07T13:46:42.141162Z"
    },
    "tags": []
   },
   "outputs": [
    {
     "data": {
      "text/plain": [
       "count    6335.000000\n",
       "mean       -0.086533\n",
       "std         0.384484\n",
       "min        -0.943200\n",
       "25%        -0.381800\n",
       "50%         0.000000\n",
       "75%         0.000000\n",
       "max         0.977600\n",
       "Name: compound, dtype: float64"
      ]
     },
     "execution_count": 32,
     "metadata": {},
     "output_type": "execute_result"
    }
   ],
   "source": [
    "# display\n",
    "vader_df['compound'].describe()"
   ]
  },
  {
   "cell_type": "markdown",
   "id": "a2534f26-26bb-4729-bee5-f1bcd59dd2e6",
   "metadata": {},
   "source": [
    "# Sentiment analysis with ```spaCyTextBlob```"
   ]
  },
  {
   "cell_type": "markdown",
   "id": "2ec630f1-0d9b-4235-b2a9-33b9e0898046",
   "metadata": {},
   "source": [
    "A slightly different approach uses ```TextBlob``` via ```spaCy``` to do the sentiment analysis. To do this, we then need to first use our ```nlp()``` pipeline to create a ```Doc``` for each headline. The sentiment scores can then be found as attributes of each ```Doc```."
   ]
  },
  {
   "cell_type": "code",
   "execution_count": 35,
   "id": "4dddd933-c3cb-4d02-bd6d-7747de799f4a",
   "metadata": {
    "execution": {
     "iopub.execute_input": "2022-03-07T13:49:09.790229Z",
     "iopub.status.busy": "2022-03-07T13:49:09.789558Z",
     "iopub.status.idle": "2022-03-07T13:49:09.847767Z",
     "shell.execute_reply": "2022-03-07T13:49:09.847068Z",
     "shell.execute_reply.started": "2022-03-07T13:49:09.790173Z"
    },
    "tags": []
   },
   "outputs": [],
   "source": [
    "# get scores for one doc\n",
    "test_doc = nlp(df['title'][3])\n",
    "test_doc = nlp(text_example)"
   ]
  },
  {
   "cell_type": "code",
   "execution_count": 36,
   "id": "6d021b3f-ef09-4601-a911-8adc3b3cb2b1",
   "metadata": {
    "execution": {
     "iopub.execute_input": "2022-03-07T13:49:11.623269Z",
     "iopub.status.busy": "2022-03-07T13:49:11.622610Z",
     "iopub.status.idle": "2022-03-07T13:49:11.631475Z",
     "shell.execute_reply": "2022-03-07T13:49:11.630471Z",
     "shell.execute_reply.started": "2022-03-07T13:49:11.623213Z"
    },
    "tags": []
   },
   "outputs": [
    {
     "data": {
      "text/plain": [
       "Bernie supporters on Twitter erupt in anger against the DNC: 'We tried to warn you!'"
      ]
     },
     "execution_count": 36,
     "metadata": {},
     "output_type": "execute_result"
    }
   ],
   "source": [
    "test_doc"
   ]
  },
  {
   "cell_type": "code",
   "execution_count": 37,
   "id": "77609041-9169-4e5e-90cc-77e27544bb57",
   "metadata": {
    "execution": {
     "iopub.execute_input": "2022-03-07T13:50:35.500834Z",
     "iopub.status.busy": "2022-03-07T13:50:35.500312Z",
     "iopub.status.idle": "2022-03-07T13:50:35.510886Z",
     "shell.execute_reply": "2022-03-07T13:50:35.509736Z",
     "shell.execute_reply.started": "2022-03-07T13:50:35.500784Z"
    },
    "tags": []
   },
   "outputs": [
    {
     "data": {
      "text/plain": [
       "-0.875"
      ]
     },
     "execution_count": 37,
     "metadata": {},
     "output_type": "execute_result"
    }
   ],
   "source": [
    "test_doc._.blob.polarity"
   ]
  },
  {
   "cell_type": "code",
   "execution_count": 38,
   "id": "ec288e53-3c78-4f05-81a3-7c1b17d779c5",
   "metadata": {
    "execution": {
     "iopub.execute_input": "2022-03-07T13:51:57.019097Z",
     "iopub.status.busy": "2022-03-07T13:51:57.018535Z",
     "iopub.status.idle": "2022-03-07T13:51:57.028292Z",
     "shell.execute_reply": "2022-03-07T13:51:57.027253Z",
     "shell.execute_reply.started": "2022-03-07T13:51:57.019043Z"
    },
    "tags": []
   },
   "outputs": [
    {
     "data": {
      "text/plain": [
       "0.2"
      ]
     },
     "execution_count": 38,
     "metadata": {},
     "output_type": "execute_result"
    }
   ],
   "source": [
    "test_doc._.blob.subjectivity # goes from 0 (objective) to 1 (subjective)"
   ]
  },
  {
   "cell_type": "code",
   "execution_count": 41,
   "id": "7ec5ccbd-76f1-4b34-8f45-d5740750562e",
   "metadata": {
    "execution": {
     "iopub.execute_input": "2022-03-07T13:54:37.975209Z",
     "iopub.status.busy": "2022-03-07T13:54:37.974664Z",
     "iopub.status.idle": "2022-03-07T13:54:37.984375Z",
     "shell.execute_reply": "2022-03-07T13:54:37.983432Z",
     "shell.execute_reply.started": "2022-03-07T13:54:37.975159Z"
    },
    "tags": []
   },
   "outputs": [
    {
     "data": {
      "text/plain": [
       "[(['anger', '!'], -0.875, 0.2, None)]"
      ]
     },
     "execution_count": 41,
     "metadata": {},
     "output_type": "execute_result"
    }
   ],
   "source": [
    "test_doc._.blob.sentiment_assessments.assessments"
   ]
  },
  {
   "cell_type": "code",
   "execution_count": 42,
   "id": "76370221-08a8-43a7-80e4-19101a2ca01f",
   "metadata": {
    "execution": {
     "iopub.execute_input": "2022-03-07T13:56:04.790196Z",
     "iopub.status.busy": "2022-03-07T13:56:04.789650Z",
     "iopub.status.idle": "2022-03-07T13:56:40.746938Z",
     "shell.execute_reply": "2022-03-07T13:56:40.746278Z",
     "shell.execute_reply.started": "2022-03-07T13:56:04.790145Z"
    },
    "tags": []
   },
   "outputs": [],
   "source": [
    "# get polarity scores for all headlines\n",
    "polarity_score = []\n",
    "\n",
    "for headline in data['title']:\n",
    "    doc = nlp(headline) # slow, because of this right here\n",
    "    scores = doc._.blob.polarity \n",
    "    blob_score.append(scores)\n",
    "    "
   ]
  },
  {
   "cell_type": "code",
   "execution_count": 46,
   "id": "053eb4ab-6608-4e5d-9f68-f017b5992fb0",
   "metadata": {
    "execution": {
     "iopub.execute_input": "2022-03-07T13:58:54.938202Z",
     "iopub.status.busy": "2022-03-07T13:58:54.937660Z",
     "iopub.status.idle": "2022-03-07T13:59:28.045343Z",
     "shell.execute_reply": "2022-03-07T13:59:28.044657Z",
     "shell.execute_reply.started": "2022-03-07T13:58:54.938149Z"
    },
    "tags": []
   },
   "outputs": [],
   "source": [
    "# get subjectivity scores\n",
    "blob_sub_score = []\n",
    "\n",
    "for headline in data['title']:\n",
    "    doc = nlp(headline)\n",
    "    scores = doc._.blob.subjectivity \n",
    "    blob_sub_score.append(scores)\n",
    "    "
   ]
  },
  {
   "cell_type": "markdown",
   "id": "35a31fdc-5854-4dc5-bead-3422077fee88",
   "metadata": {},
   "source": [
    "##### A better way of doing this with spacy"
   ]
  },
  {
   "cell_type": "code",
   "execution_count": 47,
   "id": "1f20982d-65e5-40fa-9fad-16dd5120b3df",
   "metadata": {
    "execution": {
     "iopub.execute_input": "2022-03-07T14:03:15.134057Z",
     "iopub.status.busy": "2022-03-07T14:03:15.133511Z",
     "iopub.status.idle": "2022-03-07T14:03:23.836624Z",
     "shell.execute_reply": "2022-03-07T14:03:23.835402Z",
     "shell.execute_reply.started": "2022-03-07T14:03:15.134007Z"
    },
    "tags": []
   },
   "outputs": [],
   "source": [
    "# only do this nlp thing once\n",
    "docs = list(nlp.pipe(data.title))\n",
    "\n",
    "# notes: beware that sometimes these are processed in parallel, and therefore not sequentially. \n",
    "#the index may therefore not be trustworthy. it may shuffle the data."
   ]
  },
  {
   "cell_type": "code",
   "execution_count": 52,
   "id": "48133541-aca5-4792-87ca-0152361a9949",
   "metadata": {
    "execution": {
     "iopub.execute_input": "2022-03-07T14:08:36.842266Z",
     "iopub.status.busy": "2022-03-07T14:08:36.841717Z",
     "iopub.status.idle": "2022-03-07T14:08:36.884889Z",
     "shell.execute_reply": "2022-03-07T14:08:36.884286Z",
     "shell.execute_reply.started": "2022-03-07T14:08:36.842215Z"
    },
    "tags": []
   },
   "outputs": [],
   "source": [
    "subjectivity_score = []\n",
    "polarity_score = []\n",
    "\n",
    "pol_subj = []\n",
    "\n",
    "for doc in docs:\n",
    "    sub_scores = doc._.blob.subjectivity\n",
    "    subjectivity_score.append(sub_scores)\n",
    "    \n",
    "    pol_scores = doc._.blob.polarity\n",
    "    polarity_score.append(pol_scores)\n",
    "    \n",
    "    # append as tuple to list, because they are immutable. this is a good practice method\n",
    "    pol_subj.append((pol_scores, sub_scores))"
   ]
  },
  {
   "cell_type": "code",
   "execution_count": 53,
   "id": "fb292975-bd3c-484e-bb70-7a98b1c4153d",
   "metadata": {
    "execution": {
     "iopub.execute_input": "2022-03-07T14:11:02.519801Z",
     "iopub.status.busy": "2022-03-07T14:11:02.519269Z",
     "iopub.status.idle": "2022-03-07T14:11:02.531311Z",
     "shell.execute_reply": "2022-03-07T14:11:02.530250Z",
     "shell.execute_reply.started": "2022-03-07T14:11:02.519748Z"
    },
    "tags": []
   },
   "outputs": [],
   "source": [
    "textblob_df = pd.DataFrame(pol_subj, columns = ['polarity','subjectivity'])"
   ]
  },
  {
   "cell_type": "code",
   "execution_count": 54,
   "id": "6cf84f25-ed78-402b-9eba-6622af0e6662",
   "metadata": {
    "execution": {
     "iopub.execute_input": "2022-03-07T14:11:18.438910Z",
     "iopub.status.busy": "2022-03-07T14:11:18.438384Z",
     "iopub.status.idle": "2022-03-07T14:11:18.456253Z",
     "shell.execute_reply": "2022-03-07T14:11:18.455560Z",
     "shell.execute_reply.started": "2022-03-07T14:11:18.438860Z"
    },
    "tags": []
   },
   "outputs": [
    {
     "data": {
      "text/html": [
       "<div>\n",
       "<style scoped>\n",
       "    .dataframe tbody tr th:only-of-type {\n",
       "        vertical-align: middle;\n",
       "    }\n",
       "\n",
       "    .dataframe tbody tr th {\n",
       "        vertical-align: top;\n",
       "    }\n",
       "\n",
       "    .dataframe thead th {\n",
       "        text-align: right;\n",
       "    }\n",
       "</style>\n",
       "<table border=\"1\" class=\"dataframe\">\n",
       "  <thead>\n",
       "    <tr style=\"text-align: right;\">\n",
       "      <th></th>\n",
       "      <th>polarity</th>\n",
       "      <th>subjectivity</th>\n",
       "    </tr>\n",
       "  </thead>\n",
       "  <tbody>\n",
       "    <tr>\n",
       "      <th>0</th>\n",
       "      <td>0.000000</td>\n",
       "      <td>0.000000</td>\n",
       "    </tr>\n",
       "    <tr>\n",
       "      <th>1</th>\n",
       "      <td>0.125000</td>\n",
       "      <td>0.175000</td>\n",
       "    </tr>\n",
       "    <tr>\n",
       "      <th>2</th>\n",
       "      <td>0.000000</td>\n",
       "      <td>0.000000</td>\n",
       "    </tr>\n",
       "    <tr>\n",
       "      <th>3</th>\n",
       "      <td>-0.875000</td>\n",
       "      <td>0.200000</td>\n",
       "    </tr>\n",
       "    <tr>\n",
       "      <th>4</th>\n",
       "      <td>0.268182</td>\n",
       "      <td>0.477273</td>\n",
       "    </tr>\n",
       "    <tr>\n",
       "      <th>...</th>\n",
       "      <td>...</td>\n",
       "      <td>...</td>\n",
       "    </tr>\n",
       "    <tr>\n",
       "      <th>6330</th>\n",
       "      <td>0.000000</td>\n",
       "      <td>0.000000</td>\n",
       "    </tr>\n",
       "    <tr>\n",
       "      <th>6331</th>\n",
       "      <td>0.000000</td>\n",
       "      <td>0.000000</td>\n",
       "    </tr>\n",
       "    <tr>\n",
       "      <th>6332</th>\n",
       "      <td>0.000000</td>\n",
       "      <td>0.000000</td>\n",
       "    </tr>\n",
       "    <tr>\n",
       "      <th>6333</th>\n",
       "      <td>0.000000</td>\n",
       "      <td>0.000000</td>\n",
       "    </tr>\n",
       "    <tr>\n",
       "      <th>6334</th>\n",
       "      <td>0.000000</td>\n",
       "      <td>0.500000</td>\n",
       "    </tr>\n",
       "  </tbody>\n",
       "</table>\n",
       "<p>6335 rows × 2 columns</p>\n",
       "</div>"
      ],
      "text/plain": [
       "      polarity  subjectivity\n",
       "0     0.000000      0.000000\n",
       "1     0.125000      0.175000\n",
       "2     0.000000      0.000000\n",
       "3    -0.875000      0.200000\n",
       "4     0.268182      0.477273\n",
       "...        ...           ...\n",
       "6330  0.000000      0.000000\n",
       "6331  0.000000      0.000000\n",
       "6332  0.000000      0.000000\n",
       "6333  0.000000      0.000000\n",
       "6334  0.000000      0.500000\n",
       "\n",
       "[6335 rows x 2 columns]"
      ]
     },
     "execution_count": 54,
     "metadata": {},
     "output_type": "execute_result"
    }
   ],
   "source": [
    "textblob_df"
   ]
  },
  {
   "cell_type": "markdown",
   "id": "2c33b268-ed7d-4701-9374-9f60d67dc47d",
   "metadata": {
    "tags": []
   },
   "source": [
    "# Doing NER with ```spaCy```"
   ]
  },
  {
   "cell_type": "code",
   "execution_count": null,
   "id": "3882151f-48e0-4eca-8481-9d47ec57ab1f",
   "metadata": {},
   "outputs": [],
   "source": []
  },
  {
   "cell_type": "markdown",
   "id": "f776467e-096c-4c6e-afce-4a771d7b250b",
   "metadata": {},
   "source": [
    "We can then find every individual occurrence of some kind of named entity. Note that this returns all named entities, regardless of type."
   ]
  },
  {
   "cell_type": "code",
   "execution_count": null,
   "id": "69340e62-af13-4e66-833f-575ac66db850",
   "metadata": {
    "tags": []
   },
   "outputs": [],
   "source": []
  },
  {
   "cell_type": "markdown",
   "id": "7b1fb78d-91c2-4adc-8af7-6298c2b38382",
   "metadata": {},
   "source": [
    "We can also iterate through the full data set and get a similar results for every headline."
   ]
  },
  {
   "cell_type": "code",
   "execution_count": null,
   "id": "21d58634-13b8-4d25-b3fa-80076322bcea",
   "metadata": {
    "tags": []
   },
   "outputs": [],
   "source": []
  },
  {
   "cell_type": "markdown",
   "id": "bdf0245d-7625-4315-9bd0-cfd44a62e76e",
   "metadata": {
    "execution": {
     "iopub.execute_input": "2022-03-06T18:25:41.856990Z",
     "iopub.status.busy": "2022-03-06T18:25:41.856475Z",
     "iopub.status.idle": "2022-03-06T18:25:41.881367Z",
     "shell.execute_reply": "2022-03-06T18:25:41.880817Z",
     "shell.execute_reply.started": "2022-03-06T18:25:41.856942Z"
    },
    "tags": []
   },
   "source": []
  },
  {
   "cell_type": "code",
   "execution_count": 77,
   "id": "03a40277-9678-40be-9750-6f59c4d8e507",
   "metadata": {
    "execution": {
     "iopub.execute_input": "2022-03-07T14:19:20.345671Z",
     "iopub.status.busy": "2022-03-07T14:19:20.345141Z",
     "iopub.status.idle": "2022-03-07T14:19:20.352227Z",
     "shell.execute_reply": "2022-03-07T14:19:20.350963Z",
     "shell.execute_reply.started": "2022-03-07T14:19:20.345621Z"
    },
    "tags": []
   },
   "outputs": [],
   "source": [
    "test_string = 'hi, i am ross. i am 100 years old and come from SCotlAnd'"
   ]
  },
  {
   "cell_type": "code",
   "execution_count": 78,
   "id": "ee5b5844-caf9-4f1f-8a24-b53b52e823d7",
   "metadata": {
    "execution": {
     "iopub.execute_input": "2022-03-07T14:19:21.630785Z",
     "iopub.status.busy": "2022-03-07T14:19:21.630296Z",
     "iopub.status.idle": "2022-03-07T14:19:21.650470Z",
     "shell.execute_reply": "2022-03-07T14:19:21.649803Z",
     "shell.execute_reply.started": "2022-03-07T14:19:21.630734Z"
    },
    "tags": []
   },
   "outputs": [],
   "source": [
    "doc = nlp(test_string)"
   ]
  },
  {
   "cell_type": "code",
   "execution_count": 79,
   "id": "3c9f2237-e882-4f34-a507-e4a6a0b6e163",
   "metadata": {
    "execution": {
     "iopub.execute_input": "2022-03-07T14:19:22.755611Z",
     "iopub.status.busy": "2022-03-07T14:19:22.755120Z",
     "iopub.status.idle": "2022-03-07T14:19:22.764632Z",
     "shell.execute_reply": "2022-03-07T14:19:22.763578Z",
     "shell.execute_reply.started": "2022-03-07T14:19:22.755562Z"
    },
    "tags": []
   },
   "outputs": [
    {
     "name": "stdout",
     "output_type": "stream",
     "text": [
      "ross PERSON\n",
      "100 years old DATE\n",
      "SCotlAnd GPE\n"
     ]
    }
   ],
   "source": [
    "for token in doc.ents:\n",
    "    print(token.text, token.label_)"
   ]
  },
  {
   "cell_type": "code",
   "execution_count": 80,
   "id": "cd3daca8-9c50-405c-a894-6159b8ad2e25",
   "metadata": {
    "execution": {
     "iopub.execute_input": "2022-03-07T14:28:20.169695Z",
     "iopub.status.busy": "2022-03-07T14:28:20.169005Z",
     "iopub.status.idle": "2022-03-07T14:28:29.201565Z",
     "shell.execute_reply": "2022-03-07T14:28:29.200997Z",
     "shell.execute_reply.started": "2022-03-07T14:28:20.169644Z"
    },
    "tags": []
   },
   "outputs": [
    {
     "name": "stderr",
     "output_type": "stream",
     "text": [
      "6335it [00:09, 702.66it/s] \n"
     ]
    }
   ],
   "source": [
    "ents = []\n",
    "\n",
    "for headline in tqdm(nlp.pipe(data['title'], batch_size = 500)): # use tqdm to monitor the time it takes\n",
    "    for entity in headline.ents:\n",
    "        if entity.label_ == 'GPE':\n",
    "            ents.append((entity.text, entity.label_))\n",
    "    \n",
    "    "
   ]
  },
  {
   "cell_type": "code",
   "execution_count": 82,
   "id": "71d56b71-7ee9-4b42-8f49-439c43dfc1d2",
   "metadata": {
    "execution": {
     "iopub.execute_input": "2022-03-07T14:33:59.366720Z",
     "iopub.status.busy": "2022-03-07T14:33:59.366203Z",
     "iopub.status.idle": "2022-03-07T14:33:59.375523Z",
     "shell.execute_reply": "2022-03-07T14:33:59.374264Z",
     "shell.execute_reply.started": "2022-03-07T14:33:59.366666Z"
    },
    "tags": []
   },
   "outputs": [],
   "source": [
    "ents_df = pd.DataFrame(ents, columns = ['location', 'label'] )"
   ]
  },
  {
   "cell_type": "code",
   "execution_count": 84,
   "id": "572b9ddc-ff78-417f-9948-6ca0bfb8ed37",
   "metadata": {
    "execution": {
     "iopub.execute_input": "2022-03-07T14:34:45.403374Z",
     "iopub.status.busy": "2022-03-07T14:34:45.402652Z",
     "iopub.status.idle": "2022-03-07T14:34:45.416541Z",
     "shell.execute_reply": "2022-03-07T14:34:45.415391Z",
     "shell.execute_reply.started": "2022-03-07T14:34:45.403321Z"
    },
    "tags": []
   },
   "outputs": [
    {
     "data": {
      "text/plain": [
       "US                 164\n",
       "Obama              141\n",
       "Russia             116\n",
       "Iran               104\n",
       "America             85\n",
       "                  ... \n",
       "New York Debate      1\n",
       "Guatemala            1\n",
       "Iceland              1\n",
       "Washington DC        1\n",
       "East Africa          1\n",
       "Name: location, Length: 338, dtype: int64"
      ]
     },
     "execution_count": 84,
     "metadata": {},
     "output_type": "execute_result"
    }
   ],
   "source": [
    "ents_df['location'].value_counts()"
   ]
  },
  {
   "cell_type": "markdown",
   "id": "7a8fc550-0cdd-44b5-987d-6e7edfc0e28a",
   "metadata": {},
   "source": [
    "## We can also work for a longer text such as a novel, rather than a number of short texts."
   ]
  },
  {
   "cell_type": "code",
   "execution_count": null,
   "id": "96abd3d5-7789-44ad-a60d-083dbec675cf",
   "metadata": {
    "tags": []
   },
   "outputs": [],
   "source": [
    "# get filename\n",
    "filepath = os.path.join('..','..','..','CDS-LANG', '100_novels', 'fake_or_real_news.csv')"
   ]
  },
  {
   "cell_type": "code",
   "execution_count": null,
   "id": "64c5b3fc-16dc-45cc-a6b8-e82c251e027b",
   "metadata": {
    "tags": []
   },
   "outputs": [],
   "source": [
    "# load \n"
   ]
  },
  {
   "cell_type": "code",
   "execution_count": null,
   "id": "a363e1c8-536c-4e88-a976-8e9e38c8ae42",
   "metadata": {
    "tags": []
   },
   "outputs": [],
   "source": [
    "# get spacy Doc\n"
   ]
  },
  {
   "cell_type": "code",
   "execution_count": null,
   "id": "266d4fdd-95f3-401f-8a6a-0a320e513cb4",
   "metadata": {},
   "outputs": [],
   "source": [
    "# sentence tokenization\n"
   ]
  },
  {
   "cell_type": "markdown",
   "id": "2ef39dde-c042-4f1c-aa31-3e8f8b5061b6",
   "metadata": {},
   "source": [
    "# Plotting sentiment over time"
   ]
  },
  {
   "cell_type": "code",
   "execution_count": null,
   "id": "b7e30198-0e92-4983-a712-513b3cae05a3",
   "metadata": {
    "tags": []
   },
   "outputs": [],
   "source": [
    "# plot polarity\n"
   ]
  },
  {
   "cell_type": "code",
   "execution_count": null,
   "id": "a19c973e-a3d7-4060-b1c0-7b24810ceaf0",
   "metadata": {
    "tags": []
   },
   "outputs": [],
   "source": [
    "# smooth with a rolling window\n"
   ]
  },
  {
   "cell_type": "code",
   "execution_count": null,
   "id": "6db0faf4-2416-4e4b-b751-af490553032c",
   "metadata": {
    "tags": []
   },
   "outputs": [],
   "source": [
    "# plot the results\n"
   ]
  }
 ],
 "metadata": {
  "kernelspec": {
   "display_name": "Python 3 ",
   "language": "python",
   "name": "python3"
  },
  "language_info": {
   "codemirror_mode": {
    "name": "ipython",
    "version": 3
   },
   "file_extension": ".py",
   "mimetype": "text/x-python",
   "name": "python",
   "nbconvert_exporter": "python",
   "pygments_lexer": "ipython3",
   "version": "3.9.6"
  }
 },
 "nbformat": 4,
 "nbformat_minor": 5
}
