{
 "cells": [
  {
   "cell_type": "markdown",
   "id": "930bd64c-e27e-42d8-9e4f-5505c45ea2e5",
   "metadata": {},
   "source": [
    "# Import packages"
   ]
  },
  {
   "cell_type": "code",
   "execution_count": 1,
   "id": "78387bf6-6e37-4e4b-81c0-2b65c9ab5087",
   "metadata": {
    "execution": {
     "iopub.execute_input": "2022-02-25T14:04:24.422693Z",
     "iopub.status.busy": "2022-02-25T14:04:24.422167Z",
     "iopub.status.idle": "2022-02-25T14:04:24.431091Z",
     "shell.execute_reply": "2022-02-25T14:04:24.429548Z",
     "shell.execute_reply.started": "2022-02-25T14:04:24.422643Z"
    },
    "tags": []
   },
   "outputs": [],
   "source": [
    "import os, re, math"
   ]
  },
  {
   "cell_type": "markdown",
   "id": "8ed81363-1470-43bf-bab0-333068a0c707",
   "metadata": {},
   "source": [
    "# Load file"
   ]
  },
  {
   "cell_type": "code",
   "execution_count": 2,
   "id": "f3125d05-ad92-44d9-9442-cff3595f0582",
   "metadata": {
    "execution": {
     "iopub.execute_input": "2022-02-25T14:04:24.433987Z",
     "iopub.status.busy": "2022-02-25T14:04:24.433554Z",
     "iopub.status.idle": "2022-02-25T14:04:24.449661Z",
     "shell.execute_reply": "2022-02-25T14:04:24.448395Z",
     "shell.execute_reply.started": "2022-02-25T14:04:24.433942Z"
    },
    "tags": []
   },
   "outputs": [],
   "source": [
    "filename = os.path.join(\"..\", \"..\", \"CDS-LANG\", \"100_english_novels\", \"corpus\", \"Forster_Howards_1910.txt\")"
   ]
  },
  {
   "cell_type": "code",
   "execution_count": 3,
   "id": "8a58b3e2-ebef-44e9-9dbb-536762ac3797",
   "metadata": {
    "execution": {
     "iopub.execute_input": "2022-02-25T14:04:24.452239Z",
     "iopub.status.busy": "2022-02-25T14:04:24.451285Z",
     "iopub.status.idle": "2022-02-25T14:04:24.505883Z",
     "shell.execute_reply": "2022-02-25T14:04:24.504931Z",
     "shell.execute_reply.started": "2022-02-25T14:04:24.452192Z"
    },
    "tags": []
   },
   "outputs": [],
   "source": [
    "with open(filename, \"r\") as f:\n",
    "    text = f.read()"
   ]
  },
  {
   "cell_type": "markdown",
   "id": "249102a4-40b1-4916-8b9d-e361e309586a",
   "metadata": {},
   "source": [
    "# Set keyword and window size"
   ]
  },
  {
   "cell_type": "code",
   "execution_count": 4,
   "id": "942fb70a-cd3b-4276-beb6-5844f8b11598",
   "metadata": {
    "execution": {
     "iopub.execute_input": "2022-02-25T14:04:24.508567Z",
     "iopub.status.busy": "2022-02-25T14:04:24.508218Z",
     "iopub.status.idle": "2022-02-25T14:04:24.512523Z",
     "shell.execute_reply": "2022-02-25T14:04:24.511775Z",
     "shell.execute_reply.started": "2022-02-25T14:04:24.508543Z"
    },
    "tags": []
   },
   "outputs": [],
   "source": [
    "keyword = \"love\"\n",
    "window_size = 5"
   ]
  },
  {
   "cell_type": "markdown",
   "id": "476cbf15-4257-4b5c-ad70-0f1444564155",
   "metadata": {},
   "source": [
    "# Tokenizer using ```regex```"
   ]
  },
  {
   "cell_type": "code",
   "execution_count": 5,
   "id": "5cd4b212-229f-4551-9b2f-96d516627da6",
   "metadata": {
    "execution": {
     "iopub.execute_input": "2022-02-25T14:04:24.513688Z",
     "iopub.status.busy": "2022-02-25T14:04:24.513491Z",
     "iopub.status.idle": "2022-02-25T14:04:24.582420Z",
     "shell.execute_reply": "2022-02-25T14:04:24.580917Z",
     "shell.execute_reply.started": "2022-02-25T14:04:24.513668Z"
    },
    "tags": []
   },
   "outputs": [],
   "source": [
    "# A quick regex tokenizer for splitting files below\n",
    "def tokenize(input_string):\n",
    "    tokenizer = re.compile(r\"\\W+\")\n",
    "    return tokenizer.split(input_string)"
   ]
  },
  {
   "cell_type": "markdown",
   "id": "af54927f-a856-4d59-aaa0-cb75e6865a9f",
   "metadata": {},
   "source": [
    "# Tokenize text and remove punctuation"
   ]
  },
  {
   "cell_type": "code",
   "execution_count": 6,
   "id": "159a0277-7a17-4743-8bd9-1ec7b77d2d19",
   "metadata": {
    "execution": {
     "iopub.execute_input": "2022-02-25T14:04:24.584764Z",
     "iopub.status.busy": "2022-02-25T14:04:24.584224Z",
     "iopub.status.idle": "2022-02-25T14:04:24.790131Z",
     "shell.execute_reply": "2022-02-25T14:04:24.788748Z",
     "shell.execute_reply.started": "2022-02-25T14:04:24.584719Z"
    },
    "tags": []
   },
   "outputs": [],
   "source": [
    "# ... tokenize the text and remove punctuation\n",
    "tokenized_text = []\n",
    "\n",
    "for word in tokenize(text):\n",
    "    # Lowercase\n",
    "    lowercase = word.lower()\n",
    "    # cleanup punctuation etc\n",
    "    cleaned = re.sub(r'[^\\w\\s]', '', lowercase)\n",
    "    tokenized_text.append(cleaned)"
   ]
  },
  {
   "cell_type": "markdown",
   "id": "597f3c13-1a93-4a36-8b7b-7e2ee68bee29",
   "metadata": {},
   "source": [
    "# Get context words"
   ]
  },
  {
   "cell_type": "code",
   "execution_count": 7,
   "id": "85ae39ea-df6c-4d7f-b4d8-01245f5e30f1",
   "metadata": {
    "execution": {
     "iopub.execute_input": "2022-02-25T14:04:24.791127Z",
     "iopub.status.busy": "2022-02-25T14:04:24.790989Z",
     "iopub.status.idle": "2022-02-25T14:04:24.806781Z",
     "shell.execute_reply": "2022-02-25T14:04:24.805964Z",
     "shell.execute_reply.started": "2022-02-25T14:04:24.791113Z"
    },
    "tags": []
   },
   "outputs": [],
   "source": [
    "# create temporary list\n",
    "tmp = []\n",
    "# For the target word... \n",
    "for idx,word in enumerate(tokenized_text):\n",
    "    # If it's the keyword...\n",
    "    if word == keyword:\n",
    "        # Left context catch start of list\n",
    "        left_context = max(0, idx-window_size)\n",
    "        right_context = idx+window_size\n",
    "        # ... extract all words ± 5 and add to tmp list.\n",
    "        full_context = tokenized_text[left_context:idx] + tokenized_text[idx+1:right_context]\n",
    "        # append to list\n",
    "        tmp.append(full_context)"
   ]
  },
  {
   "cell_type": "markdown",
   "id": "5dbea539-c60d-49d0-9a02-8bac5c44d633",
   "metadata": {},
   "source": [
    "# Flatten all of the lists"
   ]
  },
  {
   "cell_type": "code",
   "execution_count": 8,
   "id": "597f5f36-66af-48d1-a7c1-f449cd5434dd",
   "metadata": {
    "execution": {
     "iopub.execute_input": "2022-02-25T14:04:24.807556Z",
     "iopub.status.busy": "2022-02-25T14:04:24.807425Z",
     "iopub.status.idle": "2022-02-25T14:04:24.831365Z",
     "shell.execute_reply": "2022-02-25T14:04:24.830155Z",
     "shell.execute_reply.started": "2022-02-25T14:04:24.807542Z"
    },
    "tags": []
   },
   "outputs": [],
   "source": [
    "# Flatten list\n",
    "flattened_list = []\n",
    "# For each sublist in list of lists\n",
    "for sublist in tmp:\n",
    "    # For each item in sublist\n",
    "    for item in sublist:\n",
    "        # append\n",
    "        flattened_list.append(item)"
   ]
  },
  {
   "cell_type": "markdown",
   "id": "f26fe115-cb7e-4d0e-aaa2-520bc7de4473",
   "metadata": {},
   "source": [
    "# Count how many times each collocate occurs"
   ]
  },
  {
   "cell_type": "code",
   "execution_count": 9,
   "id": "ac835d39-0f72-4792-9cca-1750b711f826",
   "metadata": {
    "execution": {
     "iopub.execute_input": "2022-02-25T14:04:24.833433Z",
     "iopub.status.busy": "2022-02-25T14:04:24.833014Z",
     "iopub.status.idle": "2022-02-25T14:04:24.861909Z",
     "shell.execute_reply": "2022-02-25T14:04:24.861250Z",
     "shell.execute_reply.started": "2022-02-25T14:04:24.833389Z"
    },
    "tags": []
   },
   "outputs": [],
   "source": [
    "# Create a list of collocate counts\n",
    "collocate_counts = []\n",
    "\n",
    "# for every collocate \n",
    "for word in set(flattened_list):\n",
    "    # Count how often each word appears as a collocate\n",
    "    count = flattened_list.count(word)\n",
    "    # Append tuple of word and count to list\n",
    "    collocate_counts.append((word, count))"
   ]
  },
  {
   "cell_type": "markdown",
   "id": "240245a6-17de-46dd-bb41-fad511279ed7",
   "metadata": {},
   "source": [
    "# Define MI function\n",
    "\n",
    "```MI = log ( (AB * sizeCorpus) / (A * B * span) ) / log (2)```\n",
    "\n",
    "- A = frequency of node word\n",
    "- B = frequency of collocate\n",
    "- AB = frequency of collocate near the node word\n",
    "- sizeCorpus= size of corpus\n",
    "- span = span of words\n",
    "- log (2) is literally the log10 of the number 2"
   ]
  },
  {
   "cell_type": "code",
   "execution_count": 29,
   "id": "57c49141-39d2-4e2d-8ee7-0e13716f3db2",
   "metadata": {
    "execution": {
     "iopub.execute_input": "2022-02-25T14:13:29.573724Z",
     "iopub.status.busy": "2022-02-25T14:13:29.573191Z",
     "iopub.status.idle": "2022-02-25T14:13:29.581849Z",
     "shell.execute_reply": "2022-02-25T14:13:29.580342Z",
     "shell.execute_reply.started": "2022-02-25T14:13:29.573676Z"
    },
    "tags": []
   },
   "outputs": [],
   "source": [
    "def MI(A, B, AB, span, corpus_size):\n",
    "    score = math.log((AB * corpus_size) / (A * B * span)) / math.log(2)\n",
    "    return score"
   ]
  },
  {
   "cell_type": "markdown",
   "id": "e6c86165-bc47-42db-a4f4-74e0304993ad",
   "metadata": {},
   "source": [
    "# Calculate MI for every context word"
   ]
  },
  {
   "cell_type": "code",
   "execution_count": 33,
   "id": "89922e47-7df3-426f-b8b8-add759adbacd",
   "metadata": {
    "execution": {
     "iopub.execute_input": "2022-02-25T14:18:39.013372Z",
     "iopub.status.busy": "2022-02-25T14:18:39.012668Z",
     "iopub.status.idle": "2022-02-25T14:18:39.040726Z",
     "shell.execute_reply": "2022-02-25T14:18:39.039556Z",
     "shell.execute_reply.started": "2022-02-25T14:18:39.013316Z"
    },
    "tags": []
   },
   "outputs": [
    {
     "ename": "TypeError",
     "evalue": "TextIOWrapper.write() takes exactly one argument (3 given)",
     "output_type": "error",
     "traceback": [
      "\u001b[0;31m---------------------------------------------------------------------------\u001b[0m",
      "\u001b[0;31mTypeError\u001b[0m                                 Traceback (most recent call last)",
      "\u001b[0;32m/tmp/ipykernel_115/2196958499.py\u001b[0m in \u001b[0;36m<module>\u001b[0;34m\u001b[0m\n\u001b[1;32m      9\u001b[0m     \u001b[0mscore\u001b[0m \u001b[0;34m=\u001b[0m \u001b[0mMI\u001b[0m\u001b[0;34m(\u001b[0m\u001b[0mkeyword_freq\u001b[0m\u001b[0;34m,\u001b[0m \u001b[0mcoll_count\u001b[0m\u001b[0;34m,\u001b[0m \u001b[0mtotal_occurrences\u001b[0m\u001b[0;34m,\u001b[0m \u001b[0;36m10\u001b[0m\u001b[0;34m,\u001b[0m \u001b[0mcorpus_size\u001b[0m\u001b[0;34m)\u001b[0m\u001b[0;34m\u001b[0m\u001b[0;34m\u001b[0m\u001b[0m\n\u001b[1;32m     10\u001b[0m     \u001b[0;32mwith\u001b[0m \u001b[0mopen\u001b[0m\u001b[0;34m(\u001b[0m\u001b[0moutfile\u001b[0m\u001b[0;34m,\u001b[0m \u001b[0;34m\"a\"\u001b[0m\u001b[0;34m)\u001b[0m \u001b[0;32mas\u001b[0m \u001b[0mf\u001b[0m\u001b[0;34m:\u001b[0m\u001b[0;34m\u001b[0m\u001b[0;34m\u001b[0m\u001b[0m\n\u001b[0;32m---> 11\u001b[0;31m         \u001b[0mf\u001b[0m\u001b[0;34m.\u001b[0m\u001b[0mwrite\u001b[0m\u001b[0;34m(\u001b[0m\u001b[0mcoll_text\u001b[0m\u001b[0;34m,\u001b[0m\u001b[0mcoll_count\u001b[0m\u001b[0;34m,\u001b[0m\u001b[0mscore\u001b[0m\u001b[0;34m)\u001b[0m\u001b[0;34m\u001b[0m\u001b[0;34m\u001b[0m\u001b[0m\n\u001b[0m",
      "\u001b[0;31mTypeError\u001b[0m: TextIOWrapper.write() takes exactly one argument (3 given)"
     ]
    }
   ],
   "source": [
    "keyword_freq = tokenized_text.count(keyword)\n",
    "corpus_size = len(tokenized_text)\n",
    "outfile = \"collocates.csv\"\n",
    "\n",
    "\n",
    "out_list = []\n",
    "for tup in collocate_counts:\n",
    "    coll_text = tup[0]\n",
    "    coll_count = tup[1]\n",
    "    total_occurrences = tokenized_text.count(coll_text)\n",
    "    score = MI(keyword_freq, coll_count, total_occurrences, 10, corpus_size)\n",
    "    out_list.append[(coll_text, coll_count, total_occurrences, score)]\n",
    "\n",
    "    \n",
    "header = [\"text\", \"collocate_count\", \"total_count\", \"MI\"] \n",
    "with open(outfile, 'w', encoding='UTF8') as f:\n",
    "    writer = csv.writer(f)\n",
    "\n",
    "    # write the header\n",
    "    writer.writerow(header)\n",
    "\n",
    "    # write the data\n",
    "    writer.writerow(data)"
   ]
  },
  {
   "cell_type": "code",
   "execution_count": null,
   "id": "cf3ed9d9-69f3-4961-81c9-031f876f2d56",
   "metadata": {},
   "outputs": [],
   "source": []
  }
 ],
 "metadata": {
  "kernelspec": {
   "display_name": "Python 3 ",
   "language": "python",
   "name": "python3"
  },
  "language_info": {
   "codemirror_mode": {
    "name": "ipython",
    "version": 3
   },
   "file_extension": ".py",
   "mimetype": "text/x-python",
   "name": "python",
   "nbconvert_exporter": "python",
   "pygments_lexer": "ipython3",
   "version": "3.9.6"
  }
 },
 "nbformat": 4,
 "nbformat_minor": 5
}
