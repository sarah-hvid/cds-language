{
 "cells": [
  {
   "cell_type": "markdown",
   "id": "928a8a43-54bc-4a09-8642-c8b55cd1f408",
   "metadata": {},
   "source": [
    "# Import packages\n",
    "\n",
    "1) Install the following:\n",
    "- tqdm\n",
    "- spaCy\n",
    "- python -m spacy download en_core_web_sm\n",
    "\n",
    "These should all be installed with the bash script that you attached when starting the app in UCloud."
   ]
  },
  {
   "cell_type": "code",
   "execution_count": null,
   "id": "21a26351-dc0e-4808-9494-1885ff259bad",
   "metadata": {
    "tags": []
   },
   "outputs": [],
   "source": [
    "# Data analysis\n",
    "import os\n",
    "import pandas as pd\n",
    "from collections import Counter\n",
    "from tqdm import tqdm\n",
    "\n",
    "# NLP\n",
    "import spacy\n",
    "nlp = spacy.load(\"en_core_web_sm\")\n",
    "\n",
    "# sentiment analysis VADER\n",
    "from vaderSentiment.vaderSentiment import SentimentIntensityAnalyzer\n",
    "analyzer = SentimentIntensityAnalyzer()\n",
    "# sentiment with spacyTextBlob\n",
    "from spacytextblob.spacytextblob import SpacyTextBlob\n",
    "nlp.add_pipe('spacytextblob')\n",
    "\n",
    "# visualisations\n",
    "import matplotlib.pyplot as plt"
   ]
  },
  {
   "cell_type": "markdown",
   "id": "1f580619-5b77-47d2-a7b1-6c8c6a75d287",
   "metadata": {},
   "source": [
    "# Load the data\n",
    "\n",
    "We're going to use the \"fake news\" dataset in the shared drive today."
   ]
  },
  {
   "cell_type": "code",
   "execution_count": null,
   "id": "9d2ca5db-0b43-4002-a630-913e98b3ec4a",
   "metadata": {
    "tags": []
   },
   "outputs": [],
   "source": [
    "# get the filepath\n",
    "filename = os.path.join(\"..\", \"..\", \"CDS-LANG\", \"tabular_examples\", \"fake_or_real_news.csv\")"
   ]
  },
  {
   "cell_type": "code",
   "execution_count": null,
   "id": "a8b76ca2-ec19-47e8-8356-836103149b74",
   "metadata": {},
   "outputs": [],
   "source": [
    "# load the data\n",
    "data = pd.read_csv(filename)"
   ]
  },
  {
   "cell_type": "markdown",
   "id": "6863689c-d0b1-4f1a-86d3-86384d0133d8",
   "metadata": {},
   "source": [
    "# Sentiment Analysis with VADER\n",
    "\n",
    "Let's look at text at index 3 in our data - we'll just work with the headlines, rather than the full articles."
   ]
  },
  {
   "cell_type": "code",
   "execution_count": null,
   "id": "6356084b-55e4-46d0-ba73-9d70e4bdff54",
   "metadata": {},
   "outputs": [],
   "source": [
    "print(data[\"title\"][3])"
   ]
  },
  {
   "cell_type": "code",
   "execution_count": null,
   "id": "61d1a6fe-1d15-4e74-b98b-09aff7fa58da",
   "metadata": {
    "tags": []
   },
   "outputs": [],
   "source": [
    "# get sentiment scores with VADER\n",
    "analyzer.polarity_scores(data[\"title\"][3])"
   ]
  },
  {
   "cell_type": "code",
   "execution_count": null,
   "id": "25072dc8-d114-4a88-a5f0-99993f00b2f0",
   "metadata": {},
   "outputs": [],
   "source": [
    "# get for all headlines\n",
    "vader_scores = []\n",
    "for headline in data[\"title\"]:\n",
    "    score = analyzer.polarity_scores(headline)\n",
    "    vader_scores.append(score)"
   ]
  },
  {
   "cell_type": "code",
   "execution_count": null,
   "id": "05245f48-7dc7-4181-b59e-f7b09555a564",
   "metadata": {
    "tags": []
   },
   "outputs": [],
   "source": [
    "# create a dataframe\n",
    "vader_df = pd.DataFrame(vader_scores)"
   ]
  },
  {
   "cell_type": "code",
   "execution_count": null,
   "id": "07c38ab1-bdc2-4a38-8e02-568fdae6d0fc",
   "metadata": {
    "tags": []
   },
   "outputs": [],
   "source": [
    "# display\n",
    "vader_df"
   ]
  },
  {
   "cell_type": "markdown",
   "id": "a2534f26-26bb-4729-bee5-f1bcd59dd2e6",
   "metadata": {},
   "source": [
    "# Sentiment analysis with ```spaCyTextBlob```"
   ]
  },
  {
   "cell_type": "markdown",
   "id": "2ec630f1-0d9b-4235-b2a9-33b9e0898046",
   "metadata": {},
   "source": [
    "A slightly different approach uses ```TextBlob``` via ```spaCy``` to do the sentiment analysis. To do this, we then need to first use our ```nlp()``` pipeline to create a ```Doc``` for each headline. The sentiment scores can then be found as attributes of each ```Doc```."
   ]
  },
  {
   "cell_type": "code",
   "execution_count": null,
   "id": "ac919ca2-c65a-4cbb-a4db-ebb0974262a9",
   "metadata": {},
   "outputs": [],
   "source": [
    "print(data[\"title\"][3])"
   ]
  },
  {
   "cell_type": "code",
   "execution_count": null,
   "id": "4dddd933-c3cb-4d02-bd6d-7747de799f4a",
   "metadata": {
    "tags": []
   },
   "outputs": [],
   "source": [
    "# get scores for one doc\n",
    "test_doc = nlp(data[\"title\"][3])"
   ]
  },
  {
   "cell_type": "code",
   "execution_count": null,
   "id": "6d021b3f-ef09-4601-a911-8adc3b3cb2b1",
   "metadata": {
    "tags": []
   },
   "outputs": [],
   "source": [
    "test_doc._.blob.polarity     "
   ]
  },
  {
   "cell_type": "code",
   "execution_count": null,
   "id": "77609041-9169-4e5e-90cc-77e27544bb57",
   "metadata": {
    "tags": []
   },
   "outputs": [],
   "source": [
    "test_doc._.blob.subjectivity   "
   ]
  },
  {
   "cell_type": "code",
   "execution_count": null,
   "id": "ec288e53-3c78-4f05-81a3-7c1b17d779c5",
   "metadata": {
    "tags": []
   },
   "outputs": [],
   "source": [
    "test_doc._.blob.sentiment_assessments.assessments"
   ]
  },
  {
   "cell_type": "code",
   "execution_count": null,
   "id": "76370221-08a8-43a7-80e4-19101a2ca01f",
   "metadata": {
    "tags": []
   },
   "outputs": [],
   "source": [
    "# get polarity scores for all headlines\n",
    "polarity = []\n",
    "for headline in data[\"title\"]:\n",
    "    doc = nlp(headline)\n",
    "    score = doc._.blob.polarity\n",
    "    polarity.append(score)"
   ]
  },
  {
   "cell_type": "code",
   "execution_count": null,
   "id": "053eb4ab-6608-4e5d-9f68-f017b5992fb0",
   "metadata": {},
   "outputs": [],
   "source": [
    "# get subjectivity scores\n",
    "subjs = []\n",
    "for headline in nlp(data[\"title\"]):\n",
    "    doc = nlp(headline)\n",
    "    score = doc._.blob.subjectivity\n",
    "    subjs.append(score)"
   ]
  },
  {
   "cell_type": "markdown",
   "id": "2c33b268-ed7d-4701-9374-9f60d67dc47d",
   "metadata": {},
   "source": [
    "# Doing NER with ```spaCy```"
   ]
  },
  {
   "cell_type": "code",
   "execution_count": null,
   "id": "3882151f-48e0-4eca-8481-9d47ec57ab1f",
   "metadata": {},
   "outputs": [],
   "source": [
    "doc = nlp(\"My name is Ross\")"
   ]
  },
  {
   "cell_type": "markdown",
   "id": "f776467e-096c-4c6e-afce-4a771d7b250b",
   "metadata": {},
   "source": [
    "We can then find every individual occurrence of some kind of named entity. Note that this returns all named entities, regardless of type."
   ]
  },
  {
   "cell_type": "code",
   "execution_count": null,
   "id": "69340e62-af13-4e66-833f-575ac66db850",
   "metadata": {
    "tags": []
   },
   "outputs": [],
   "source": [
    "# For every entity in the doc object\n",
    "for token in doc.ents:\n",
    "    # print the token and the NER label (NB: .label_ not .label)\n",
    "    print(token.text, token.label_)"
   ]
  },
  {
   "cell_type": "markdown",
   "id": "7b1fb78d-91c2-4adc-8af7-6298c2b38382",
   "metadata": {},
   "source": [
    "We can also iterate through the full data set and get a similar results for every headline."
   ]
  },
  {
   "cell_type": "code",
   "execution_count": null,
   "id": "21d58634-13b8-4d25-b3fa-80076322bcea",
   "metadata": {
    "tags": []
   },
   "outputs": [],
   "source": [
    "ents = []\n",
    "for posts in tqdm(nlp.pipe(data[\"title\"], batch_size=500)):\n",
    "    for entity in posts.ents:\n",
    "        if entity.label_ == \"GPE\":\n",
    "            ents.append(entity.text)"
   ]
  },
  {
   "cell_type": "markdown",
   "id": "bdf0245d-7625-4315-9bd0-cfd44a62e76e",
   "metadata": {
    "execution": {
     "iopub.execute_input": "2022-03-06T18:25:41.856990Z",
     "iopub.status.busy": "2022-03-06T18:25:41.856475Z",
     "iopub.status.idle": "2022-03-06T18:25:41.881367Z",
     "shell.execute_reply": "2022-03-06T18:25:41.880817Z",
     "shell.execute_reply.started": "2022-03-06T18:25:41.856942Z"
    },
    "tags": []
   },
   "source": [
    "# Working with a longer text"
   ]
  },
  {
   "cell_type": "markdown",
   "id": "7a8fc550-0cdd-44b5-987d-6e7edfc0e28a",
   "metadata": {},
   "source": [
    "We can also work for a longer text such as a novel, rather than a number of short texts."
   ]
  },
  {
   "cell_type": "code",
   "execution_count": null,
   "id": "96abd3d5-7789-44ad-a60d-083dbec675cf",
   "metadata": {
    "tags": []
   },
   "outputs": [],
   "source": [
    "# get filename\n",
    "filename = os.path.join(\"..\", \"..\", \"CDS-LANG\", \"100_english_novels\", \"corpus\", \"Cbronte_Jane_1847.txt\")"
   ]
  },
  {
   "cell_type": "code",
   "execution_count": null,
   "id": "64c5b3fc-16dc-45cc-a6b8-e82c251e027b",
   "metadata": {
    "tags": []
   },
   "outputs": [],
   "source": [
    "# load \n",
    "with open(filename, \"r\", encoding=\"utf-8\") as file:\n",
    "    text = file.read()"
   ]
  },
  {
   "cell_type": "code",
   "execution_count": null,
   "id": "a363e1c8-536c-4e88-a976-8e9e38c8ae42",
   "metadata": {
    "tags": []
   },
   "outputs": [],
   "source": [
    "# get spacy Doc\n",
    "nlp.max_length = 1500000\n",
    "doc = nlp(text)"
   ]
  },
  {
   "cell_type": "code",
   "execution_count": null,
   "id": "266d4fdd-95f3-401f-8a6a-0a320e513cb4",
   "metadata": {},
   "outputs": [],
   "source": [
    "# sentence tokenization\n",
    "polarity = []\n",
    "\n",
    "for sentence in doc.sents:\n",
    "    score = sentence._.blob.polarity\n",
    "    polarity.append(score)"
   ]
  },
  {
   "cell_type": "markdown",
   "id": "2ef39dde-c042-4f1c-aa31-3e8f8b5061b6",
   "metadata": {},
   "source": [
    "# Plotting sentiment over time"
   ]
  },
  {
   "cell_type": "code",
   "execution_count": null,
   "id": "b7e30198-0e92-4983-a712-513b3cae05a3",
   "metadata": {
    "tags": []
   },
   "outputs": [],
   "source": [
    "# plot polarity\n",
    "plt.plot(polarity)"
   ]
  },
  {
   "cell_type": "code",
   "execution_count": null,
   "id": "a19c973e-a3d7-4060-b1c0-7b24810ceaf0",
   "metadata": {
    "tags": []
   },
   "outputs": [],
   "source": [
    "# smooth with a rolling window\n",
    "smoothed_sentiment = pd.Series(polarity).rolling(500).mean()"
   ]
  },
  {
   "cell_type": "code",
   "execution_count": null,
   "id": "6db0faf4-2416-4e4b-b751-af490553032c",
   "metadata": {
    "tags": []
   },
   "outputs": [],
   "source": [
    "# plot the results\n",
    "plt.plot(smoothed_sentiment)"
   ]
  }
 ],
 "metadata": {
  "kernelspec": {
   "display_name": "Python 3 ",
   "language": "python",
   "name": "python3"
  },
  "language_info": {
   "codemirror_mode": {
    "name": "ipython",
    "version": 3
   },
   "file_extension": ".py",
   "mimetype": "text/x-python",
   "name": "python",
   "nbconvert_exporter": "python",
   "pygments_lexer": "ipython3",
   "version": "3.9.6"
  }
 },
 "nbformat": 4,
 "nbformat_minor": 5
}
