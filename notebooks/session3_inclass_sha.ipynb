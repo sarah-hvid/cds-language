{
 "cells": [
  {
   "cell_type": "markdown",
   "metadata": {},
   "source": [
    "## Introduction to ```spaCy```"
   ]
  },
  {
   "cell_type": "markdown",
   "metadata": {},
   "source": [
    "There are a number of different NLP frameworks that you're likely to encounter. The most popular and widely-used of these are:\n",
    "\n",
    "- ```NLTK``` (Natural Language Toolkit, old-school)\n",
    "- ```UDPipe``` (Neural network based, fast and light, but not super accurate)\n",
    "- ```CoreNLP``` and ```stanza``` (Created by the team at Stanford; academically robust)\n",
    "- ```spaCy``` production-ready, well-documented, state-of-the-art\n",
    "\n",
    "We'll be working with ```spaCy``` in this module, primarily because it's easy and intuitive, and also scales well.\n",
    "\n",
    "First thing we need to do is install ```spaCy``` and the language model that we want to use."
   ]
  },
  {
   "cell_type": "markdown",
   "metadata": {},
   "source": [
    "```\n",
    "$ pip install spacy \n",
    "$ python -m spacy download en_core_web_sm\n",
    "```"
   ]
  },
  {
   "cell_type": "code",
   "execution_count": null,
   "metadata": {},
   "outputs": [],
   "source": [
    "python -m spacy download en_core_web_sm"
   ]
  },
  {
   "cell_type": "markdown",
   "metadata": {},
   "source": [
    "## Initializing ```spaCy```"
   ]
  },
  {
   "cell_type": "markdown",
   "metadata": {},
   "source": [
    "The first thing we need to do is import ```spaCy``` __and__ the language model that we want to use.\n",
    "\n",
    "Note that, if you want to use different langauges you want to use different language models."
   ]
  },
  {
   "cell_type": "code",
   "execution_count": 5,
   "metadata": {
    "execution": {
     "iopub.execute_input": "2022-02-21T11:47:31.762166Z",
     "iopub.status.busy": "2022-02-21T11:47:31.761627Z",
     "iopub.status.idle": "2022-02-21T11:47:32.286009Z",
     "shell.execute_reply": "2022-02-21T11:47:32.284975Z",
     "shell.execute_reply.started": "2022-02-21T11:47:31.762116Z"
    },
    "tags": []
   },
   "outputs": [],
   "source": [
    "import spacy\n",
    "\n",
    "nlp = spacy.load(\"en_core_web_sm\")"
   ]
  },
  {
   "cell_type": "markdown",
   "metadata": {},
   "source": [
    "With the model now loaded, we can begin to do some very simple NLP tasks.\n",
    "\n",
    "Here, we create a spaCy object and assign it to the variable ```nlp```. This is the NLP pipeline that will do all our heavy lifting, using the trained model we've specified.\n",
    "\n",
    "Below, you can see what the pipeline does with a bit of sample text. Passing text to the nlp object gives us access to a bunch of properties, including tokens (words), parts of speech, named entities, and so on. Here's we two of them, tokens and entities. These objects, in turn, have certain methods attached to them. A full outline of available methods can be found in the spaCy docs.\n",
    "\n",
    "In this case, for all token objects, let's return the token itself (token.text); its part-of-speech tag (token.pos_); and the grammatical dependency relations between the tokens (token.dep_).\n"
   ]
  },
  {
   "cell_type": "code",
   "execution_count": 25,
   "metadata": {
    "execution": {
     "iopub.execute_input": "2022-02-21T13:37:40.075354Z",
     "iopub.status.busy": "2022-02-21T13:37:40.074690Z",
     "iopub.status.idle": "2022-02-21T13:37:40.094936Z",
     "shell.execute_reply": "2022-02-21T13:37:40.094148Z",
     "shell.execute_reply.started": "2022-02-21T13:37:40.075302Z"
    },
    "tags": []
   },
   "outputs": [],
   "source": [
    "doc = nlp(\"Hello from New York! we're happy here. i went running yesterday\")"
   ]
  },
  {
   "cell_type": "markdown",
   "metadata": {},
   "source": [
    "__Tokenize__"
   ]
  },
  {
   "cell_type": "code",
   "execution_count": 28,
   "metadata": {
    "execution": {
     "iopub.execute_input": "2022-02-21T13:38:17.871597Z",
     "iopub.status.busy": "2022-02-21T13:38:17.871104Z",
     "iopub.status.idle": "2022-02-21T13:38:17.881692Z",
     "shell.execute_reply": "2022-02-21T13:38:17.880837Z",
     "shell.execute_reply.started": "2022-02-21T13:38:17.871548Z"
    },
    "tags": []
   },
   "outputs": [
    {
     "name": "stdout",
     "output_type": "stream",
     "text": [
      "Hello : INTJ ROOT\n",
      "from : ADP prep\n",
      "New : PROPN compound\n",
      "York : PROPN pobj\n",
      "! : PUNCT punct\n",
      "we : PRON nsubj\n",
      "'re : AUX ROOT\n",
      "happy : ADJ acomp\n",
      "here : ADV advmod\n",
      ". : PUNCT punct\n",
      "i : PRON nsubj\n",
      "went : VERB ROOT\n",
      "running : VERB advcl\n",
      "yesterday : NOUN npadvmod\n"
     ]
    }
   ],
   "source": [
    "for token in doc:\n",
    "    print(token.text,  ':', token.pos_, token.dep_)"
   ]
  },
  {
   "cell_type": "code",
   "execution_count": 37,
   "metadata": {
    "execution": {
     "iopub.execute_input": "2022-02-21T13:40:37.999685Z",
     "iopub.status.busy": "2022-02-21T13:40:37.999194Z",
     "iopub.status.idle": "2022-02-21T13:40:38.007706Z",
     "shell.execute_reply": "2022-02-21T13:40:38.006598Z",
     "shell.execute_reply.started": "2022-02-21T13:40:37.999637Z"
    },
    "tags": []
   },
   "outputs": [
    {
     "name": "stdout",
     "output_type": "stream",
     "text": [
      "go is a verb\n",
      "run is a verb\n"
     ]
    }
   ],
   "source": [
    "for token in doc:\n",
    "    if token.pos_ == 'VERB':\n",
    "        print(token.text, 'is a verb' )\n",
    "    else:\n",
    "        pass"
   ]
  },
  {
   "cell_type": "markdown",
   "metadata": {},
   "source": [
    "__Trying some more attributes__"
   ]
  },
  {
   "cell_type": "code",
   "execution_count": 24,
   "metadata": {
    "execution": {
     "iopub.execute_input": "2022-02-21T13:35:28.676849Z",
     "iopub.status.busy": "2022-02-21T13:35:28.676193Z",
     "iopub.status.idle": "2022-02-21T13:35:28.684585Z",
     "shell.execute_reply": "2022-02-21T13:35:28.683497Z",
     "shell.execute_reply.started": "2022-02-21T13:35:28.676780Z"
    },
    "tags": []
   },
   "outputs": [
    {
     "name": "stdout",
     "output_type": "stream",
     "text": [
      "New York : GPE\n"
     ]
    }
   ],
   "source": [
    "for entity in doc.ents:\n",
    "   print(entity, \":\", entity.label_)"
   ]
  },
  {
   "cell_type": "code",
   "execution_count": 23,
   "metadata": {
    "execution": {
     "iopub.execute_input": "2022-02-21T13:35:21.137742Z",
     "iopub.status.busy": "2022-02-21T13:35:21.137306Z",
     "iopub.status.idle": "2022-02-21T13:35:21.145823Z",
     "shell.execute_reply": "2022-02-21T13:35:21.145204Z",
     "shell.execute_reply.started": "2022-02-21T13:35:21.137706Z"
    },
    "tags": []
   },
   "outputs": [
    {
     "data": {
      "text/html": [
       "<span class=\"tex2jax_ignore\"><svg xmlns=\"http://www.w3.org/2000/svg\" xmlns:xlink=\"http://www.w3.org/1999/xlink\" xml:lang=\"en\" id=\"3016a9b298e048289440620ab85ec744-0\" class=\"displacy\" width=\"1450\" height=\"312.0\" direction=\"ltr\" style=\"max-width: none; height: 312.0px; color: #000000; background: #ffffff; font-family: Arial; direction: ltr\">\n",
       "<text class=\"displacy-token\" fill=\"currentColor\" text-anchor=\"middle\" y=\"222.0\">\n",
       "    <tspan class=\"displacy-word\" fill=\"currentColor\" x=\"50\">Hello</tspan>\n",
       "    <tspan class=\"displacy-tag\" dy=\"2em\" fill=\"currentColor\" x=\"50\">INTJ</tspan>\n",
       "</text>\n",
       "\n",
       "<text class=\"displacy-token\" fill=\"currentColor\" text-anchor=\"middle\" y=\"222.0\">\n",
       "    <tspan class=\"displacy-word\" fill=\"currentColor\" x=\"225\">from</tspan>\n",
       "    <tspan class=\"displacy-tag\" dy=\"2em\" fill=\"currentColor\" x=\"225\">ADP</tspan>\n",
       "</text>\n",
       "\n",
       "<text class=\"displacy-token\" fill=\"currentColor\" text-anchor=\"middle\" y=\"222.0\">\n",
       "    <tspan class=\"displacy-word\" fill=\"currentColor\" x=\"400\">New</tspan>\n",
       "    <tspan class=\"displacy-tag\" dy=\"2em\" fill=\"currentColor\" x=\"400\">PROPN</tspan>\n",
       "</text>\n",
       "\n",
       "<text class=\"displacy-token\" fill=\"currentColor\" text-anchor=\"middle\" y=\"222.0\">\n",
       "    <tspan class=\"displacy-word\" fill=\"currentColor\" x=\"575\">York!</tspan>\n",
       "    <tspan class=\"displacy-tag\" dy=\"2em\" fill=\"currentColor\" x=\"575\">PROPN</tspan>\n",
       "</text>\n",
       "\n",
       "<text class=\"displacy-token\" fill=\"currentColor\" text-anchor=\"middle\" y=\"222.0\">\n",
       "    <tspan class=\"displacy-word\" fill=\"currentColor\" x=\"750\">we</tspan>\n",
       "    <tspan class=\"displacy-tag\" dy=\"2em\" fill=\"currentColor\" x=\"750\">PRON</tspan>\n",
       "</text>\n",
       "\n",
       "<text class=\"displacy-token\" fill=\"currentColor\" text-anchor=\"middle\" y=\"222.0\">\n",
       "    <tspan class=\"displacy-word\" fill=\"currentColor\" x=\"925\">'re</tspan>\n",
       "    <tspan class=\"displacy-tag\" dy=\"2em\" fill=\"currentColor\" x=\"925\">AUX</tspan>\n",
       "</text>\n",
       "\n",
       "<text class=\"displacy-token\" fill=\"currentColor\" text-anchor=\"middle\" y=\"222.0\">\n",
       "    <tspan class=\"displacy-word\" fill=\"currentColor\" x=\"1100\">happy</tspan>\n",
       "    <tspan class=\"displacy-tag\" dy=\"2em\" fill=\"currentColor\" x=\"1100\">ADJ</tspan>\n",
       "</text>\n",
       "\n",
       "<text class=\"displacy-token\" fill=\"currentColor\" text-anchor=\"middle\" y=\"222.0\">\n",
       "    <tspan class=\"displacy-word\" fill=\"currentColor\" x=\"1275\">here.</tspan>\n",
       "    <tspan class=\"displacy-tag\" dy=\"2em\" fill=\"currentColor\" x=\"1275\">ADV</tspan>\n",
       "</text>\n",
       "\n",
       "<g class=\"displacy-arrow\">\n",
       "    <path class=\"displacy-arc\" id=\"arrow-3016a9b298e048289440620ab85ec744-0-0\" stroke-width=\"2px\" d=\"M70,177.0 C70,89.5 220.0,89.5 220.0,177.0\" fill=\"none\" stroke=\"currentColor\"/>\n",
       "    <text dy=\"1.25em\" style=\"font-size: 0.8em; letter-spacing: 1px\">\n",
       "        <textPath xlink:href=\"#arrow-3016a9b298e048289440620ab85ec744-0-0\" class=\"displacy-label\" startOffset=\"50%\" side=\"left\" fill=\"currentColor\" text-anchor=\"middle\">prep</textPath>\n",
       "    </text>\n",
       "    <path class=\"displacy-arrowhead\" d=\"M220.0,179.0 L228.0,167.0 212.0,167.0\" fill=\"currentColor\"/>\n",
       "</g>\n",
       "\n",
       "<g class=\"displacy-arrow\">\n",
       "    <path class=\"displacy-arc\" id=\"arrow-3016a9b298e048289440620ab85ec744-0-1\" stroke-width=\"2px\" d=\"M420,177.0 C420,89.5 570.0,89.5 570.0,177.0\" fill=\"none\" stroke=\"currentColor\"/>\n",
       "    <text dy=\"1.25em\" style=\"font-size: 0.8em; letter-spacing: 1px\">\n",
       "        <textPath xlink:href=\"#arrow-3016a9b298e048289440620ab85ec744-0-1\" class=\"displacy-label\" startOffset=\"50%\" side=\"left\" fill=\"currentColor\" text-anchor=\"middle\">compound</textPath>\n",
       "    </text>\n",
       "    <path class=\"displacy-arrowhead\" d=\"M420,179.0 L412,167.0 428,167.0\" fill=\"currentColor\"/>\n",
       "</g>\n",
       "\n",
       "<g class=\"displacy-arrow\">\n",
       "    <path class=\"displacy-arc\" id=\"arrow-3016a9b298e048289440620ab85ec744-0-2\" stroke-width=\"2px\" d=\"M245,177.0 C245,2.0 575.0,2.0 575.0,177.0\" fill=\"none\" stroke=\"currentColor\"/>\n",
       "    <text dy=\"1.25em\" style=\"font-size: 0.8em; letter-spacing: 1px\">\n",
       "        <textPath xlink:href=\"#arrow-3016a9b298e048289440620ab85ec744-0-2\" class=\"displacy-label\" startOffset=\"50%\" side=\"left\" fill=\"currentColor\" text-anchor=\"middle\">pobj</textPath>\n",
       "    </text>\n",
       "    <path class=\"displacy-arrowhead\" d=\"M575.0,179.0 L583.0,167.0 567.0,167.0\" fill=\"currentColor\"/>\n",
       "</g>\n",
       "\n",
       "<g class=\"displacy-arrow\">\n",
       "    <path class=\"displacy-arc\" id=\"arrow-3016a9b298e048289440620ab85ec744-0-3\" stroke-width=\"2px\" d=\"M770,177.0 C770,89.5 920.0,89.5 920.0,177.0\" fill=\"none\" stroke=\"currentColor\"/>\n",
       "    <text dy=\"1.25em\" style=\"font-size: 0.8em; letter-spacing: 1px\">\n",
       "        <textPath xlink:href=\"#arrow-3016a9b298e048289440620ab85ec744-0-3\" class=\"displacy-label\" startOffset=\"50%\" side=\"left\" fill=\"currentColor\" text-anchor=\"middle\">nsubj</textPath>\n",
       "    </text>\n",
       "    <path class=\"displacy-arrowhead\" d=\"M770,179.0 L762,167.0 778,167.0\" fill=\"currentColor\"/>\n",
       "</g>\n",
       "\n",
       "<g class=\"displacy-arrow\">\n",
       "    <path class=\"displacy-arc\" id=\"arrow-3016a9b298e048289440620ab85ec744-0-4\" stroke-width=\"2px\" d=\"M945,177.0 C945,89.5 1095.0,89.5 1095.0,177.0\" fill=\"none\" stroke=\"currentColor\"/>\n",
       "    <text dy=\"1.25em\" style=\"font-size: 0.8em; letter-spacing: 1px\">\n",
       "        <textPath xlink:href=\"#arrow-3016a9b298e048289440620ab85ec744-0-4\" class=\"displacy-label\" startOffset=\"50%\" side=\"left\" fill=\"currentColor\" text-anchor=\"middle\">acomp</textPath>\n",
       "    </text>\n",
       "    <path class=\"displacy-arrowhead\" d=\"M1095.0,179.0 L1103.0,167.0 1087.0,167.0\" fill=\"currentColor\"/>\n",
       "</g>\n",
       "\n",
       "<g class=\"displacy-arrow\">\n",
       "    <path class=\"displacy-arc\" id=\"arrow-3016a9b298e048289440620ab85ec744-0-5\" stroke-width=\"2px\" d=\"M945,177.0 C945,2.0 1275.0,2.0 1275.0,177.0\" fill=\"none\" stroke=\"currentColor\"/>\n",
       "    <text dy=\"1.25em\" style=\"font-size: 0.8em; letter-spacing: 1px\">\n",
       "        <textPath xlink:href=\"#arrow-3016a9b298e048289440620ab85ec744-0-5\" class=\"displacy-label\" startOffset=\"50%\" side=\"left\" fill=\"currentColor\" text-anchor=\"middle\">advmod</textPath>\n",
       "    </text>\n",
       "    <path class=\"displacy-arrowhead\" d=\"M1275.0,179.0 L1283.0,167.0 1267.0,167.0\" fill=\"currentColor\"/>\n",
       "</g>\n",
       "</svg></span>"
      ],
      "text/plain": [
       "<IPython.core.display.HTML object>"
      ]
     },
     "metadata": {},
     "output_type": "display_data"
    }
   ],
   "source": [
    "spacy.displacy.render(doc, style=\"dep\")"
   ]
  },
  {
   "cell_type": "markdown",
   "metadata": {},
   "source": [
    "## Count distribution of linguistic features"
   ]
  },
  {
   "cell_type": "markdown",
   "metadata": {},
   "source": [
    "__Create doc object__"
   ]
  },
  {
   "cell_type": "code",
   "execution_count": null,
   "metadata": {},
   "outputs": [],
   "source": [
    "# load one text from the data folder (novel)\n",
    "# put through spacy pipeline\n",
    "# count how many adj. there are"
   ]
  },
  {
   "cell_type": "code",
   "execution_count": 39,
   "metadata": {
    "execution": {
     "iopub.execute_input": "2022-02-21T13:47:50.547886Z",
     "iopub.status.busy": "2022-02-21T13:47:50.546867Z",
     "iopub.status.idle": "2022-02-21T13:47:50.556242Z",
     "shell.execute_reply": "2022-02-21T13:47:50.555104Z",
     "shell.execute_reply.started": "2022-02-21T13:47:50.547835Z"
    },
    "tags": []
   },
   "outputs": [
    {
     "data": {
      "text/plain": [
       "'/work/cds-lang/cds-language/notebooks'"
      ]
     },
     "execution_count": 39,
     "metadata": {},
     "output_type": "execute_result"
    }
   ],
   "source": [
    "pwd()"
   ]
  },
  {
   "cell_type": "code",
   "execution_count": 50,
   "metadata": {
    "execution": {
     "iopub.execute_input": "2022-02-21T13:54:52.005787Z",
     "iopub.status.busy": "2022-02-21T13:54:52.005298Z",
     "iopub.status.idle": "2022-02-21T13:54:52.012588Z",
     "shell.execute_reply": "2022-02-21T13:54:52.011351Z",
     "shell.execute_reply.started": "2022-02-21T13:54:52.005739Z"
    },
    "tags": []
   },
   "outputs": [],
   "source": [
    "import os"
   ]
  },
  {
   "cell_type": "code",
   "execution_count": 96,
   "metadata": {
    "execution": {
     "iopub.execute_input": "2022-02-21T14:17:44.230103Z",
     "iopub.status.busy": "2022-02-21T14:17:44.229523Z",
     "iopub.status.idle": "2022-02-21T14:17:44.235637Z",
     "shell.execute_reply": "2022-02-21T14:17:44.234664Z",
     "shell.execute_reply.started": "2022-02-21T14:17:44.230055Z"
    },
    "tags": []
   },
   "outputs": [],
   "source": [
    "filepath = os.path.join('..', '..', '..', 'CDS-LANG', '100_english_novels', 'corpus', 'Barclay_Ladies_1917.txt')"
   ]
  },
  {
   "cell_type": "code",
   "execution_count": 97,
   "metadata": {
    "execution": {
     "iopub.execute_input": "2022-02-21T14:17:45.658326Z",
     "iopub.status.busy": "2022-02-21T14:17:45.657709Z",
     "iopub.status.idle": "2022-02-21T14:17:45.668907Z",
     "shell.execute_reply": "2022-02-21T14:17:45.668208Z",
     "shell.execute_reply.started": "2022-02-21T14:17:45.658275Z"
    },
    "tags": []
   },
   "outputs": [],
   "source": [
    "with open(filepath. 'r') as f:\n",
    "    text = f.read()"
   ]
  },
  {
   "cell_type": "code",
   "execution_count": 98,
   "metadata": {
    "execution": {
     "iopub.execute_input": "2022-02-21T14:17:47.414361Z",
     "iopub.status.busy": "2022-02-21T14:17:47.413750Z",
     "iopub.status.idle": "2022-02-21T14:18:48.960584Z",
     "shell.execute_reply": "2022-02-21T14:18:48.959681Z",
     "shell.execute_reply.started": "2022-02-21T14:17:47.414313Z"
    },
    "tags": []
   },
   "outputs": [],
   "source": [
    "doc = nlp(text)"
   ]
  },
  {
   "cell_type": "code",
   "execution_count": 99,
   "metadata": {
    "execution": {
     "iopub.execute_input": "2022-02-21T14:18:49.150798Z",
     "iopub.status.busy": "2022-02-21T14:18:49.150657Z",
     "iopub.status.idle": "2022-02-21T14:18:49.188278Z",
     "shell.execute_reply": "2022-02-21T14:18:49.187639Z",
     "shell.execute_reply.started": "2022-02-21T14:18:49.150782Z"
    },
    "tags": []
   },
   "outputs": [],
   "source": [
    "adjectives = []\n",
    "adjectives2 = 0\n",
    "\n",
    "for token in doc:\n",
    "    if token.pos_ == 'ADJ':\n",
    "        adjectives.append(token.text)\n",
    "        adjectives2 += 1\n",
    "    else:\n",
    "        pass"
   ]
  },
  {
   "cell_type": "code",
   "execution_count": 100,
   "metadata": {
    "execution": {
     "iopub.execute_input": "2022-02-21T14:18:59.816605Z",
     "iopub.status.busy": "2022-02-21T14:18:59.816016Z",
     "iopub.status.idle": "2022-02-21T14:18:59.824108Z",
     "shell.execute_reply": "2022-02-21T14:18:59.823139Z",
     "shell.execute_reply.started": "2022-02-21T14:18:59.816558Z"
    },
    "tags": []
   },
   "outputs": [
    {
     "data": {
      "text/plain": [
       "8573"
      ]
     },
     "execution_count": 100,
     "metadata": {},
     "output_type": "execute_result"
    }
   ],
   "source": [
    "len(adjectives)"
   ]
  },
  {
   "cell_type": "markdown",
   "metadata": {},
   "source": [
    "__Relative frequency__"
   ]
  },
  {
   "cell_type": "code",
   "execution_count": 73,
   "metadata": {},
   "outputs": [],
   "source": [
    "# calculate relative frequency per 1000 words"
   ]
  },
  {
   "cell_type": "code",
   "execution_count": 104,
   "metadata": {
    "execution": {
     "iopub.execute_input": "2022-02-21T14:32:35.232018Z",
     "iopub.status.busy": "2022-02-21T14:32:35.231462Z",
     "iopub.status.idle": "2022-02-21T14:32:35.283547Z",
     "shell.execute_reply": "2022-02-21T14:32:35.282871Z",
     "shell.execute_reply.started": "2022-02-21T14:32:35.231947Z"
    },
    "tags": []
   },
   "outputs": [],
   "source": [
    "words = 0\n",
    "\n",
    "for token in doc:\n",
    "    if token.pos_ != 'PUNCT':\n",
    "        words += 1\n"
   ]
  },
  {
   "cell_type": "code",
   "execution_count": 105,
   "metadata": {
    "execution": {
     "iopub.execute_input": "2022-02-21T14:32:44.816965Z",
     "iopub.status.busy": "2022-02-21T14:32:44.816411Z",
     "iopub.status.idle": "2022-02-21T14:32:44.823246Z",
     "shell.execute_reply": "2022-02-21T14:32:44.822092Z",
     "shell.execute_reply.started": "2022-02-21T14:32:44.816895Z"
    },
    "tags": []
   },
   "outputs": [],
   "source": [
    "rel_freq = (adjectives2 / words) * 1000"
   ]
  },
  {
   "cell_type": "code",
   "execution_count": 106,
   "metadata": {
    "execution": {
     "iopub.execute_input": "2022-02-21T14:32:45.930723Z",
     "iopub.status.busy": "2022-02-21T14:32:45.930194Z",
     "iopub.status.idle": "2022-02-21T14:32:45.939041Z",
     "shell.execute_reply": "2022-02-21T14:32:45.937919Z",
     "shell.execute_reply.started": "2022-02-21T14:32:45.930673Z"
    },
    "tags": []
   },
   "outputs": [
    {
     "data": {
      "text/plain": [
       "67.19599943565707"
      ]
     },
     "execution_count": 106,
     "metadata": {},
     "output_type": "execute_result"
    }
   ],
   "source": [
    "rel_freq #56, but without puncts its 67"
   ]
  }
 ],
 "metadata": {
  "kernelspec": {
   "display_name": "Python 3 ",
   "language": "python",
   "name": "python3"
  },
  "language_info": {
   "codemirror_mode": {
    "name": "ipython",
    "version": 3
   },
   "file_extension": ".py",
   "mimetype": "text/x-python",
   "name": "python",
   "nbconvert_exporter": "python",
   "pygments_lexer": "ipython3",
   "version": "3.9.6"
  }
 },
 "nbformat": 4,
 "nbformat_minor": 4
}
