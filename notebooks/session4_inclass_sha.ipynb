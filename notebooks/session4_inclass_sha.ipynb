{
 "cells": [
  {
   "cell_type": "markdown",
   "metadata": {},
   "source": [
    "## Some more on ```spaCy``` and ```pandas```"
   ]
  },
  {
   "cell_type": "markdown",
   "metadata": {},
   "source": [
    "First we want to import some of the packages we need."
   ]
  },
  {
   "cell_type": "code",
   "execution_count": 2,
   "metadata": {
    "execution": {
     "iopub.execute_input": "2022-02-28T13:15:56.420451Z",
     "iopub.status.busy": "2022-02-28T13:15:56.419673Z",
     "iopub.status.idle": "2022-02-28T13:15:57.319389Z",
     "shell.execute_reply": "2022-02-28T13:15:57.318401Z",
     "shell.execute_reply.started": "2022-02-28T13:15:56.420391Z"
    },
    "tags": []
   },
   "outputs": [],
   "source": [
    "import os\n",
    "import spacy\n",
    "\n",
    "# Remember we need to initialise spaCy\n",
    "nlp = spacy.load(\"en_core_web_sm\")"
   ]
  },
  {
   "cell_type": "markdown",
   "metadata": {},
   "source": [
    "We can inspect this object and see that it's what we've been called a ```spaCy``` object. "
   ]
  },
  {
   "cell_type": "code",
   "execution_count": 3,
   "metadata": {
    "execution": {
     "iopub.execute_input": "2022-02-28T13:18:28.786688Z",
     "iopub.status.busy": "2022-02-28T13:18:28.786139Z",
     "iopub.status.idle": "2022-02-28T13:18:28.796087Z",
     "shell.execute_reply": "2022-02-28T13:18:28.794755Z",
     "shell.execute_reply.started": "2022-02-28T13:18:28.786633Z"
    },
    "tags": []
   },
   "outputs": [
    {
     "data": {
      "text/plain": [
       "spacy.lang.en.English"
      ]
     },
     "execution_count": 3,
     "metadata": {},
     "output_type": "execute_result"
    }
   ],
   "source": [
    "type(nlp)"
   ]
  },
  {
   "cell_type": "markdown",
   "metadata": {},
   "source": [
    "We use this ```spaCy``` object to create annotated outputs, what we call a ```Doc``` object."
   ]
  },
  {
   "cell_type": "code",
   "execution_count": 4,
   "metadata": {
    "execution": {
     "iopub.execute_input": "2022-02-28T13:19:07.800341Z",
     "iopub.status.busy": "2022-02-28T13:19:07.799800Z",
     "iopub.status.idle": "2022-02-28T13:19:07.817792Z",
     "shell.execute_reply": "2022-02-28T13:19:07.817136Z",
     "shell.execute_reply.started": "2022-02-28T13:19:07.800287Z"
    },
    "tags": []
   },
   "outputs": [],
   "source": [
    "example = 'this is an english sentence'\n",
    "doc = nlp(example)"
   ]
  },
  {
   "cell_type": "code",
   "execution_count": 5,
   "metadata": {
    "execution": {
     "iopub.execute_input": "2022-02-28T13:19:28.820141Z",
     "iopub.status.busy": "2022-02-28T13:19:28.819586Z",
     "iopub.status.idle": "2022-02-28T13:19:28.829463Z",
     "shell.execute_reply": "2022-02-28T13:19:28.828289Z",
     "shell.execute_reply.started": "2022-02-28T13:19:28.820089Z"
    },
    "tags": []
   },
   "outputs": [
    {
     "data": {
      "text/plain": [
       "spacy.tokens.doc.Doc"
      ]
     },
     "execution_count": 5,
     "metadata": {},
     "output_type": "execute_result"
    }
   ],
   "source": [
    "type(doc)"
   ]
  },
  {
   "cell_type": "markdown",
   "metadata": {},
   "source": [
    "```Doc``` objects are sequences of tokens, meaning we can iterate over the tokens and output specific annotations that we want such as POS tag or lemma."
   ]
  },
  {
   "cell_type": "code",
   "execution_count": 6,
   "metadata": {
    "execution": {
     "iopub.execute_input": "2022-02-28T13:20:13.045978Z",
     "iopub.status.busy": "2022-02-28T13:20:13.045419Z",
     "iopub.status.idle": "2022-02-28T13:20:13.056087Z",
     "shell.execute_reply": "2022-02-28T13:20:13.054930Z",
     "shell.execute_reply.started": "2022-02-28T13:20:13.045926Z"
    },
    "tags": []
   },
   "outputs": [
    {
     "name": "stdout",
     "output_type": "stream",
     "text": [
      "this PRON this\n",
      "is AUX be\n",
      "an DET an\n",
      "english ADJ english\n",
      "sentence NOUN sentence\n"
     ]
    }
   ],
   "source": [
    "for token in doc:\n",
    "    print(token.text, token.pos_, token.lemma_)"
   ]
  },
  {
   "cell_type": "markdown",
   "metadata": {},
   "source": [
    "__Reading data with ```pandas```__"
   ]
  },
  {
   "cell_type": "markdown",
   "metadata": {},
   "source": [
    "```pandas``` is the main library in Python for working with DataFrames. These are tabular objects of mixed data types, comprising rows and columns.\n",
    "\n",
    "In ```pandas``` vocabulary, a column is called a ```Series```, which is like a sophisticated list. I'll be using the names ```Series``` and column pretty interchangably."
   ]
  },
  {
   "cell_type": "code",
   "execution_count": 7,
   "metadata": {
    "execution": {
     "iopub.execute_input": "2022-02-28T13:20:58.582791Z",
     "iopub.status.busy": "2022-02-28T13:20:58.581560Z",
     "iopub.status.idle": "2022-02-28T13:20:58.802844Z",
     "shell.execute_reply": "2022-02-28T13:20:58.801405Z",
     "shell.execute_reply.started": "2022-02-28T13:20:58.582729Z"
    },
    "tags": []
   },
   "outputs": [],
   "source": [
    "import pandas as pd"
   ]
  },
  {
   "cell_type": "code",
   "execution_count": 11,
   "metadata": {
    "execution": {
     "iopub.execute_input": "2022-02-28T13:24:38.330353Z",
     "iopub.status.busy": "2022-02-28T13:24:38.329558Z",
     "iopub.status.idle": "2022-02-28T13:24:38.339321Z",
     "shell.execute_reply": "2022-02-28T13:24:38.337827Z",
     "shell.execute_reply.started": "2022-02-28T13:24:38.330294Z"
    },
    "tags": []
   },
   "outputs": [
    {
     "name": "stdout",
     "output_type": "stream",
     "text": [
      "../../../CDS-LANG/tabular_examples/fake_or_real_news.csv\n"
     ]
    }
   ],
   "source": [
    "filepath = os.path.join('..','..','..','CDS-LANG', 'tabular_examples', 'fake_or_real_news.csv')"
   ]
  },
  {
   "cell_type": "code",
   "execution_count": 12,
   "metadata": {
    "execution": {
     "iopub.execute_input": "2022-02-28T13:24:40.813492Z",
     "iopub.status.busy": "2022-02-28T13:24:40.812300Z",
     "iopub.status.idle": "2022-02-28T13:24:41.164517Z",
     "shell.execute_reply": "2022-02-28T13:24:41.163245Z",
     "shell.execute_reply.started": "2022-02-28T13:24:40.813430Z"
    },
    "tags": []
   },
   "outputs": [],
   "source": [
    "df = pd.read_csv(filepath)"
   ]
  },
  {
   "cell_type": "markdown",
   "metadata": {},
   "source": [
    "We can use ```.sample()``` to take random samples of the dataframe."
   ]
  },
  {
   "cell_type": "code",
   "execution_count": 14,
   "metadata": {
    "execution": {
     "iopub.execute_input": "2022-02-28T13:25:19.871689Z",
     "iopub.status.busy": "2022-02-28T13:25:19.871130Z",
     "iopub.status.idle": "2022-02-28T13:25:19.889141Z",
     "shell.execute_reply": "2022-02-28T13:25:19.888069Z",
     "shell.execute_reply.started": "2022-02-28T13:25:19.871637Z"
    },
    "tags": []
   },
   "outputs": [
    {
     "data": {
      "text/html": [
       "<div>\n",
       "<style scoped>\n",
       "    .dataframe tbody tr th:only-of-type {\n",
       "        vertical-align: middle;\n",
       "    }\n",
       "\n",
       "    .dataframe tbody tr th {\n",
       "        vertical-align: top;\n",
       "    }\n",
       "\n",
       "    .dataframe thead th {\n",
       "        text-align: right;\n",
       "    }\n",
       "</style>\n",
       "<table border=\"1\" class=\"dataframe\">\n",
       "  <thead>\n",
       "    <tr style=\"text-align: right;\">\n",
       "      <th></th>\n",
       "      <th>Unnamed: 0</th>\n",
       "      <th>title</th>\n",
       "      <th>text</th>\n",
       "      <th>label</th>\n",
       "    </tr>\n",
       "  </thead>\n",
       "  <tbody>\n",
       "    <tr>\n",
       "      <th>4650</th>\n",
       "      <td>84</td>\n",
       "      <td>U.S. District Judge orders homophobic Kentucky...</td>\n",
       "      <td>Kim Davis — the Rowan County, Kentucky Clerk w...</td>\n",
       "      <td>REAL</td>\n",
       "    </tr>\n",
       "    <tr>\n",
       "      <th>1706</th>\n",
       "      <td>1831</td>\n",
       "      <td>Fiorina rejects idea of 'affirmative action' i...</td>\n",
       "      <td>On this day in 1973, J. Fred Buzhardt, a lawye...</td>\n",
       "      <td>REAL</td>\n",
       "    </tr>\n",
       "    <tr>\n",
       "      <th>1899</th>\n",
       "      <td>7962</td>\n",
       "      <td>Comments of the Week: Here Comes Trouble</td>\n",
       "      <td>Comments of the Week: Here Comes Trouble Poste...</td>\n",
       "      <td>FAKE</td>\n",
       "    </tr>\n",
       "    <tr>\n",
       "      <th>2364</th>\n",
       "      <td>7452</td>\n",
       "      <td>Clinton campaign blames FBI director for loss ...</td>\n",
       "      <td>Politics FBI Director James Comey (AFP file ph...</td>\n",
       "      <td>FAKE</td>\n",
       "    </tr>\n",
       "    <tr>\n",
       "      <th>4200</th>\n",
       "      <td>721</td>\n",
       "      <td>Obama says world leaders right to be 'rattled'...</td>\n",
       "      <td>President Obama said world leaders were right ...</td>\n",
       "      <td>REAL</td>\n",
       "    </tr>\n",
       "    <tr>\n",
       "      <th>1537</th>\n",
       "      <td>6974</td>\n",
       "      <td>Tesla, ‘World’s Safest Car,’ Explodes Like a Bomb</td>\n",
       "      <td>Tesla, ‘World’s Safest Car,’ Explodes Like a B...</td>\n",
       "      <td>FAKE</td>\n",
       "    </tr>\n",
       "    <tr>\n",
       "      <th>3703</th>\n",
       "      <td>7603</td>\n",
       "      <td>Speaker at Sanders Rally Tells Crowd Not to Vo...</td>\n",
       "      <td>We Are Change \\nThe president of the Iowa Stat...</td>\n",
       "      <td>FAKE</td>\n",
       "    </tr>\n",
       "    <tr>\n",
       "      <th>1408</th>\n",
       "      <td>345</td>\n",
       "      <td>Cory Booker on how America's criminal justice ...</td>\n",
       "      <td>German Lopez:You've called the war on drugs a ...</td>\n",
       "      <td>REAL</td>\n",
       "    </tr>\n",
       "    <tr>\n",
       "      <th>4149</th>\n",
       "      <td>3220</td>\n",
       "      <td>Republicans Are Now Seen As The More Extreme P...</td>\n",
       "      <td>In a shift of opinion since the 2014 midterms,...</td>\n",
       "      <td>REAL</td>\n",
       "    </tr>\n",
       "    <tr>\n",
       "      <th>3520</th>\n",
       "      <td>3733</td>\n",
       "      <td>Charleston church massacre suspect caught, but...</td>\n",
       "      <td>Police on Thursday nabbed the 21-year-old man ...</td>\n",
       "      <td>REAL</td>\n",
       "    </tr>\n",
       "  </tbody>\n",
       "</table>\n",
       "</div>"
      ],
      "text/plain": [
       "      Unnamed: 0                                              title  \\\n",
       "4650          84  U.S. District Judge orders homophobic Kentucky...   \n",
       "1706        1831  Fiorina rejects idea of 'affirmative action' i...   \n",
       "1899        7962           Comments of the Week: Here Comes Trouble   \n",
       "2364        7452  Clinton campaign blames FBI director for loss ...   \n",
       "4200         721  Obama says world leaders right to be 'rattled'...   \n",
       "1537        6974  Tesla, ‘World’s Safest Car,’ Explodes Like a Bomb   \n",
       "3703        7603  Speaker at Sanders Rally Tells Crowd Not to Vo...   \n",
       "1408         345  Cory Booker on how America's criminal justice ...   \n",
       "4149        3220  Republicans Are Now Seen As The More Extreme P...   \n",
       "3520        3733  Charleston church massacre suspect caught, but...   \n",
       "\n",
       "                                                   text label  \n",
       "4650  Kim Davis — the Rowan County, Kentucky Clerk w...  REAL  \n",
       "1706  On this day in 1973, J. Fred Buzhardt, a lawye...  REAL  \n",
       "1899  Comments of the Week: Here Comes Trouble Poste...  FAKE  \n",
       "2364  Politics FBI Director James Comey (AFP file ph...  FAKE  \n",
       "4200  President Obama said world leaders were right ...  REAL  \n",
       "1537  Tesla, ‘World’s Safest Car,’ Explodes Like a B...  FAKE  \n",
       "3703  We Are Change \\nThe president of the Iowa Stat...  FAKE  \n",
       "1408  German Lopez:You've called the war on drugs a ...  REAL  \n",
       "4149  In a shift of opinion since the 2014 midterms,...  REAL  \n",
       "3520  Police on Thursday nabbed the 21-year-old man ...  REAL  "
      ]
     },
     "execution_count": 14,
     "metadata": {},
     "output_type": "execute_result"
    }
   ],
   "source": [
    "df.sample(10)"
   ]
  },
  {
   "cell_type": "markdown",
   "metadata": {},
   "source": [
    "To delete unwanted columns, we can do the following:"
   ]
  },
  {
   "cell_type": "code",
   "execution_count": 19,
   "metadata": {
    "execution": {
     "iopub.execute_input": "2022-02-28T13:27:41.197784Z",
     "iopub.status.busy": "2022-02-28T13:27:41.197250Z",
     "iopub.status.idle": "2022-02-28T13:27:41.204224Z",
     "shell.execute_reply": "2022-02-28T13:27:41.202844Z",
     "shell.execute_reply.started": "2022-02-28T13:27:41.197732Z"
    },
    "tags": []
   },
   "outputs": [],
   "source": [
    "del df['Unnamed: 0'] # works to delete columns, but this is a dangerous way of doing it"
   ]
  },
  {
   "cell_type": "code",
   "execution_count": 21,
   "metadata": {
    "execution": {
     "iopub.execute_input": "2022-02-28T13:28:34.379274Z",
     "iopub.status.busy": "2022-02-28T13:28:34.378583Z",
     "iopub.status.idle": "2022-02-28T13:28:34.392090Z",
     "shell.execute_reply": "2022-02-28T13:28:34.391239Z",
     "shell.execute_reply.started": "2022-02-28T13:28:34.379222Z"
    },
    "tags": []
   },
   "outputs": [
    {
     "data": {
      "text/plain": [
       "REAL    3171\n",
       "FAKE    3164\n",
       "Name: label, dtype: int64"
      ]
     },
     "execution_count": 21,
     "metadata": {},
     "output_type": "execute_result"
    }
   ],
   "source": [
    "df['label'].value_counts()"
   ]
  },
  {
   "cell_type": "markdown",
   "metadata": {},
   "source": [
    "We can count the distribution of possible values in our data using ```.value_counts()``` - e.g. how many REAL and FAKE news entries do we have in our DataFrame?"
   ]
  },
  {
   "cell_type": "code",
   "execution_count": null,
   "metadata": {},
   "outputs": [],
   "source": []
  },
  {
   "cell_type": "markdown",
   "metadata": {},
   "source": [
    "__Filter on columns__"
   ]
  },
  {
   "cell_type": "markdown",
   "metadata": {},
   "source": [
    "To filter on columns, we define a condition on which we want to filter and use that to filer our DataFrame. We use the square-bracket syntax, just as if we were slicing a list or string."
   ]
  },
  {
   "cell_type": "code",
   "execution_count": 29,
   "metadata": {
    "execution": {
     "iopub.execute_input": "2022-02-28T13:33:00.964787Z",
     "iopub.status.busy": "2022-02-28T13:33:00.964229Z",
     "iopub.status.idle": "2022-02-28T13:33:00.975699Z",
     "shell.execute_reply": "2022-02-28T13:33:00.974142Z",
     "shell.execute_reply.started": "2022-02-28T13:33:00.964735Z"
    },
    "tags": []
   },
   "outputs": [],
   "source": [
    "fake_news_df = df[df['label'] == 'FAKE']"
   ]
  },
  {
   "cell_type": "code",
   "execution_count": 31,
   "metadata": {
    "execution": {
     "iopub.execute_input": "2022-02-28T13:33:31.853016Z",
     "iopub.status.busy": "2022-02-28T13:33:31.852247Z",
     "iopub.status.idle": "2022-02-28T13:33:31.862329Z",
     "shell.execute_reply": "2022-02-28T13:33:31.860813Z",
     "shell.execute_reply.started": "2022-02-28T13:33:31.852962Z"
    },
    "tags": []
   },
   "outputs": [],
   "source": [
    "real_news_df = df[df['label'] == 'TRUE']"
   ]
  },
  {
   "cell_type": "markdown",
   "metadata": {},
   "source": [
    "Here we create two new dataframes, one with only fake news text, and one with only real news text."
   ]
  },
  {
   "cell_type": "code",
   "execution_count": 32,
   "metadata": {
    "execution": {
     "iopub.execute_input": "2022-02-28T13:33:45.360003Z",
     "iopub.status.busy": "2022-02-28T13:33:45.359474Z",
     "iopub.status.idle": "2022-02-28T13:33:45.378960Z",
     "shell.execute_reply": "2022-02-28T13:33:45.378171Z",
     "shell.execute_reply.started": "2022-02-28T13:33:45.359954Z"
    },
    "tags": []
   },
   "outputs": [
    {
     "data": {
      "text/html": [
       "<div>\n",
       "<style scoped>\n",
       "    .dataframe tbody tr th:only-of-type {\n",
       "        vertical-align: middle;\n",
       "    }\n",
       "\n",
       "    .dataframe tbody tr th {\n",
       "        vertical-align: top;\n",
       "    }\n",
       "\n",
       "    .dataframe thead th {\n",
       "        text-align: right;\n",
       "    }\n",
       "</style>\n",
       "<table border=\"1\" class=\"dataframe\">\n",
       "  <thead>\n",
       "    <tr style=\"text-align: right;\">\n",
       "      <th></th>\n",
       "      <th>Unnamed: 0</th>\n",
       "      <th>title</th>\n",
       "      <th>text</th>\n",
       "      <th>label</th>\n",
       "    </tr>\n",
       "  </thead>\n",
       "  <tbody>\n",
       "    <tr>\n",
       "      <th>0</th>\n",
       "      <td>8476</td>\n",
       "      <td>You Can Smell Hillary’s Fear</td>\n",
       "      <td>Daniel Greenfield, a Shillman Journalism Fello...</td>\n",
       "      <td>FAKE</td>\n",
       "    </tr>\n",
       "    <tr>\n",
       "      <th>1</th>\n",
       "      <td>10294</td>\n",
       "      <td>Watch The Exact Moment Paul Ryan Committed Pol...</td>\n",
       "      <td>Google Pinterest Digg Linkedin Reddit Stumbleu...</td>\n",
       "      <td>FAKE</td>\n",
       "    </tr>\n",
       "    <tr>\n",
       "      <th>3</th>\n",
       "      <td>10142</td>\n",
       "      <td>Bernie supporters on Twitter erupt in anger ag...</td>\n",
       "      <td>— Kaydee King (@KaydeeKing) November 9, 2016 T...</td>\n",
       "      <td>FAKE</td>\n",
       "    </tr>\n",
       "    <tr>\n",
       "      <th>5</th>\n",
       "      <td>6903</td>\n",
       "      <td>Tehran, USA</td>\n",
       "      <td>\\nI’m not an immigrant, but my grandparents ...</td>\n",
       "      <td>FAKE</td>\n",
       "    </tr>\n",
       "    <tr>\n",
       "      <th>6</th>\n",
       "      <td>7341</td>\n",
       "      <td>Girl Horrified At What She Watches Boyfriend D...</td>\n",
       "      <td>Share This Baylee Luciani (left), Screenshot o...</td>\n",
       "      <td>FAKE</td>\n",
       "    </tr>\n",
       "    <tr>\n",
       "      <th>...</th>\n",
       "      <td>...</td>\n",
       "      <td>...</td>\n",
       "      <td>...</td>\n",
       "      <td>...</td>\n",
       "    </tr>\n",
       "    <tr>\n",
       "      <th>6326</th>\n",
       "      <td>6143</td>\n",
       "      <td>DOJ COMPLAINT: Comey Under Fire Over Partisan ...</td>\n",
       "      <td>DOJ COMPLAINT: Comey Under Fire Over Partisan ...</td>\n",
       "      <td>FAKE</td>\n",
       "    </tr>\n",
       "    <tr>\n",
       "      <th>6328</th>\n",
       "      <td>9337</td>\n",
       "      <td>Radio Derb Is On The Air–Leonardo And Brazil’s...</td>\n",
       "      <td></td>\n",
       "      <td>FAKE</td>\n",
       "    </tr>\n",
       "    <tr>\n",
       "      <th>6329</th>\n",
       "      <td>8737</td>\n",
       "      <td>Assange claims ‘crazed’ Clinton campaign tried...</td>\n",
       "      <td>Julian Assange has claimed the Hillary Clinton...</td>\n",
       "      <td>FAKE</td>\n",
       "    </tr>\n",
       "    <tr>\n",
       "      <th>6331</th>\n",
       "      <td>8062</td>\n",
       "      <td>The ‘P’ in PBS Should Stand for ‘Plutocratic’ ...</td>\n",
       "      <td>The ‘P’ in PBS Should Stand for ‘Plutocratic’ ...</td>\n",
       "      <td>FAKE</td>\n",
       "    </tr>\n",
       "    <tr>\n",
       "      <th>6332</th>\n",
       "      <td>8622</td>\n",
       "      <td>Anti-Trump Protesters Are Tools of the Oligarc...</td>\n",
       "      <td>Anti-Trump Protesters Are Tools of the Oligar...</td>\n",
       "      <td>FAKE</td>\n",
       "    </tr>\n",
       "  </tbody>\n",
       "</table>\n",
       "<p>3164 rows × 4 columns</p>\n",
       "</div>"
      ],
      "text/plain": [
       "      Unnamed: 0                                              title  \\\n",
       "0           8476                       You Can Smell Hillary’s Fear   \n",
       "1          10294  Watch The Exact Moment Paul Ryan Committed Pol...   \n",
       "3          10142  Bernie supporters on Twitter erupt in anger ag...   \n",
       "5           6903                                        Tehran, USA   \n",
       "6           7341  Girl Horrified At What She Watches Boyfriend D...   \n",
       "...          ...                                                ...   \n",
       "6326        6143  DOJ COMPLAINT: Comey Under Fire Over Partisan ...   \n",
       "6328        9337  Radio Derb Is On The Air–Leonardo And Brazil’s...   \n",
       "6329        8737  Assange claims ‘crazed’ Clinton campaign tried...   \n",
       "6331        8062  The ‘P’ in PBS Should Stand for ‘Plutocratic’ ...   \n",
       "6332        8622  Anti-Trump Protesters Are Tools of the Oligarc...   \n",
       "\n",
       "                                                   text label  \n",
       "0     Daniel Greenfield, a Shillman Journalism Fello...  FAKE  \n",
       "1     Google Pinterest Digg Linkedin Reddit Stumbleu...  FAKE  \n",
       "3     — Kaydee King (@KaydeeKing) November 9, 2016 T...  FAKE  \n",
       "5       \\nI’m not an immigrant, but my grandparents ...  FAKE  \n",
       "6     Share This Baylee Luciani (left), Screenshot o...  FAKE  \n",
       "...                                                 ...   ...  \n",
       "6326  DOJ COMPLAINT: Comey Under Fire Over Partisan ...  FAKE  \n",
       "6328                                                     FAKE  \n",
       "6329  Julian Assange has claimed the Hillary Clinton...  FAKE  \n",
       "6331  The ‘P’ in PBS Should Stand for ‘Plutocratic’ ...  FAKE  \n",
       "6332   Anti-Trump Protesters Are Tools of the Oligar...  FAKE  \n",
       "\n",
       "[3164 rows x 4 columns]"
      ]
     },
     "execution_count": 32,
     "metadata": {},
     "output_type": "execute_result"
    }
   ],
   "source": [
    "fake_news_df"
   ]
  },
  {
   "cell_type": "code",
   "execution_count": 36,
   "metadata": {
    "execution": {
     "iopub.execute_input": "2022-02-28T13:40:17.535883Z",
     "iopub.status.busy": "2022-02-28T13:40:17.535363Z",
     "iopub.status.idle": "2022-02-28T13:40:17.543651Z",
     "shell.execute_reply": "2022-02-28T13:40:17.542322Z",
     "shell.execute_reply.started": "2022-02-28T13:40:17.535833Z"
    },
    "tags": []
   },
   "outputs": [],
   "source": [
    "output_data = []\n",
    "\n",
    "for token in doc:\n",
    "    output_data.append((token.text, token.pos_, token.lemma_))"
   ]
  },
  {
   "cell_type": "code",
   "execution_count": 37,
   "metadata": {
    "execution": {
     "iopub.execute_input": "2022-02-28T13:40:18.697686Z",
     "iopub.status.busy": "2022-02-28T13:40:18.697172Z",
     "iopub.status.idle": "2022-02-28T13:40:18.707266Z",
     "shell.execute_reply": "2022-02-28T13:40:18.705984Z",
     "shell.execute_reply.started": "2022-02-28T13:40:18.697636Z"
    },
    "tags": []
   },
   "outputs": [
    {
     "data": {
      "text/plain": [
       "[('this', 'PRON', 'this'),\n",
       " ('is', 'AUX', 'be'),\n",
       " ('an', 'DET', 'an'),\n",
       " ('english', 'ADJ', 'english'),\n",
       " ('sentence', 'NOUN', 'sentence')]"
      ]
     },
     "execution_count": 37,
     "metadata": {},
     "output_type": "execute_result"
    }
   ],
   "source": [
    "output_data"
   ]
  },
  {
   "cell_type": "code",
   "execution_count": 40,
   "metadata": {
    "execution": {
     "iopub.execute_input": "2022-02-28T13:41:24.700100Z",
     "iopub.status.busy": "2022-02-28T13:41:24.699560Z",
     "iopub.status.idle": "2022-02-28T13:41:24.718128Z",
     "shell.execute_reply": "2022-02-28T13:41:24.717385Z",
     "shell.execute_reply.started": "2022-02-28T13:41:24.700049Z"
    },
    "tags": []
   },
   "outputs": [
    {
     "data": {
      "text/html": [
       "<div>\n",
       "<style scoped>\n",
       "    .dataframe tbody tr th:only-of-type {\n",
       "        vertical-align: middle;\n",
       "    }\n",
       "\n",
       "    .dataframe tbody tr th {\n",
       "        vertical-align: top;\n",
       "    }\n",
       "\n",
       "    .dataframe thead th {\n",
       "        text-align: right;\n",
       "    }\n",
       "</style>\n",
       "<table border=\"1\" class=\"dataframe\">\n",
       "  <thead>\n",
       "    <tr style=\"text-align: right;\">\n",
       "      <th></th>\n",
       "      <th>text</th>\n",
       "      <th>pos</th>\n",
       "      <th>lemma</th>\n",
       "    </tr>\n",
       "  </thead>\n",
       "  <tbody>\n",
       "    <tr>\n",
       "      <th>0</th>\n",
       "      <td>this</td>\n",
       "      <td>PRON</td>\n",
       "      <td>this</td>\n",
       "    </tr>\n",
       "    <tr>\n",
       "      <th>1</th>\n",
       "      <td>is</td>\n",
       "      <td>AUX</td>\n",
       "      <td>be</td>\n",
       "    </tr>\n",
       "    <tr>\n",
       "      <th>2</th>\n",
       "      <td>an</td>\n",
       "      <td>DET</td>\n",
       "      <td>an</td>\n",
       "    </tr>\n",
       "    <tr>\n",
       "      <th>3</th>\n",
       "      <td>english</td>\n",
       "      <td>ADJ</td>\n",
       "      <td>english</td>\n",
       "    </tr>\n",
       "    <tr>\n",
       "      <th>4</th>\n",
       "      <td>sentence</td>\n",
       "      <td>NOUN</td>\n",
       "      <td>sentence</td>\n",
       "    </tr>\n",
       "  </tbody>\n",
       "</table>\n",
       "</div>"
      ],
      "text/plain": [
       "       text   pos     lemma\n",
       "0      this  PRON      this\n",
       "1        is   AUX        be\n",
       "2        an   DET        an\n",
       "3   english   ADJ   english\n",
       "4  sentence  NOUN  sentence"
      ]
     },
     "execution_count": 40,
     "metadata": {},
     "output_type": "execute_result"
    }
   ],
   "source": [
    "pd.DataFrame(output_data, columns = ['text', 'pos', 'lemma'])"
   ]
  },
  {
   "cell_type": "markdown",
   "metadata": {},
   "source": [
    "__Counters__"
   ]
  },
  {
   "cell_type": "markdown",
   "metadata": {},
   "source": [
    "In the following cell, you can see how to use a 'counter' to count how many entries are in a list.\n",
    "\n",
    "The += operator adds 1 to the variable ```counter``` for every entry in the list."
   ]
  },
  {
   "cell_type": "code",
   "execution_count": null,
   "metadata": {},
   "outputs": [],
   "source": []
  },
  {
   "cell_type": "markdown",
   "metadata": {},
   "source": [
    "__Counting features in data__"
   ]
  },
  {
   "cell_type": "markdown",
   "metadata": {},
   "source": [
    "Using the same logic, we can count how often adjectives (```JJ```) appear in our data. \n",
    "\n",
    "This is useful from a lingustic perspective; we could now, for example, figure out how many of each part of speech can be found in our data."
   ]
  },
  {
   "cell_type": "code",
   "execution_count": null,
   "metadata": {},
   "outputs": [],
   "source": []
  },
  {
   "cell_type": "markdown",
   "metadata": {},
   "source": [
    "In this case, we're using ```nlp.pipe``` from ```spaCy``` to group the entries together into batches of 500 at a time.\n",
    "\n",
    "Why?\n",
    "\n",
    "Everytime we execute ```nlp(text)``` it incurs a small computational overhead which means that scaling becomes an issue. An overhead of 0.01s per document becomes an issue when dealing with 1,000,000 or 10,000,000 or 100,000,000...\n",
    "\n",
    "If we batch, we can therefore be a bit more efficient. It also allows us to keep our ```spaCy``` logic compact and together, which becomes useful for more complex tasks."
   ]
  },
  {
   "cell_type": "code",
   "execution_count": null,
   "metadata": {},
   "outputs": [],
   "source": []
  },
  {
   "cell_type": "markdown",
   "metadata": {},
   "source": [
    "## Sentiment with ```spaCy```"
   ]
  },
  {
   "cell_type": "markdown",
   "metadata": {},
   "source": [
    "To work with spaCyTextBlob, we need to make sure that we are working with ```spacy==2.3.5```. \n",
    "\n",
    "Follow the separate instructions posted to Slack to make this work."
   ]
  },
  {
   "cell_type": "code",
   "execution_count": null,
   "metadata": {},
   "outputs": [],
   "source": [
    "import os\n",
    "import pandas as pd\n",
    "import matplotlib.pyplot as plt\n",
    "import spacy\n",
    "from spacytextblob.spacytextblob import SpacyTextBlob\n",
    "# initialise spacy\n",
    "nlp = spacy.load(\"en_core_web_sm\")"
   ]
  },
  {
   "cell_type": "markdown",
   "metadata": {},
   "source": [
    "Here, we initialise spaCyTextBlob and add it as a new component to our ```spaCy``` nlp pipeline."
   ]
  },
  {
   "cell_type": "code",
   "execution_count": null,
   "metadata": {},
   "outputs": [],
   "source": []
  },
  {
   "cell_type": "markdown",
   "metadata": {},
   "source": [
    "Let's test spaCyTextBlob on a single text, specifically Virgian Woolf's _To The Lighthouse_, published in 1927."
   ]
  },
  {
   "cell_type": "code",
   "execution_count": null,
   "metadata": {},
   "outputs": [],
   "source": []
  },
  {
   "cell_type": "code",
   "execution_count": null,
   "metadata": {},
   "outputs": [],
   "source": []
  },
  {
   "cell_type": "code",
   "execution_count": null,
   "metadata": {},
   "outputs": [],
   "source": []
  },
  {
   "cell_type": "markdown",
   "metadata": {},
   "source": [
    "We use ```spaCy``` to create a ```Doc``` object for the entire text (how might you do this in batch?)"
   ]
  },
  {
   "cell_type": "code",
   "execution_count": null,
   "metadata": {},
   "outputs": [],
   "source": []
  },
  {
   "cell_type": "markdown",
   "metadata": {},
   "source": [
    "We can extract the polarity for each sentence in the novel and create list of scores per sentence."
   ]
  },
  {
   "cell_type": "code",
   "execution_count": null,
   "metadata": {},
   "outputs": [],
   "source": []
  },
  {
   "cell_type": "code",
   "execution_count": null,
   "metadata": {},
   "outputs": [],
   "source": []
  },
  {
   "cell_type": "markdown",
   "metadata": {},
   "source": [
    "We can create a quick and cheap plot using matplotlib - this is only fine in Jupyter Notebooks, don't do this in the wild!"
   ]
  },
  {
   "cell_type": "code",
   "execution_count": null,
   "metadata": {},
   "outputs": [],
   "source": []
  },
  {
   "cell_type": "markdown",
   "metadata": {},
   "source": [
    "We can the use some fancy methods from ```pandas``` to calculate a rolling mean over a certain window length.\n",
    "\n",
    "For example, we group together our polarity scores into a window of 100 sentences at a time and calculate an average on that window."
   ]
  },
  {
   "cell_type": "code",
   "execution_count": null,
   "metadata": {},
   "outputs": [],
   "source": []
  },
  {
   "cell_type": "markdown",
   "metadata": {},
   "source": [
    "This plot with a rolling average shows us a 'smoothed' output showing the rolling average over time, helping to cut through the noise."
   ]
  },
  {
   "cell_type": "code",
   "execution_count": null,
   "metadata": {},
   "outputs": [],
   "source": []
  },
  {
   "cell_type": "code",
   "execution_count": null,
   "metadata": {},
   "outputs": [],
   "source": []
  }
 ],
 "metadata": {
  "kernelspec": {
   "display_name": "Python 3 ",
   "language": "python",
   "name": "python3"
  },
  "language_info": {
   "codemirror_mode": {
    "name": "ipython",
    "version": 3
   },
   "file_extension": ".py",
   "mimetype": "text/x-python",
   "name": "python",
   "nbconvert_exporter": "python",
   "pygments_lexer": "ipython3",
   "version": "3.9.6"
  }
 },
 "nbformat": 4,
 "nbformat_minor": 4
}
